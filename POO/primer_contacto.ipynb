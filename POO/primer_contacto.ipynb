{
 "cells": [
  {
   "cell_type": "markdown",
   "metadata": {},
   "source": [
    "# Ejemplo estructurado "
   ]
  },
  {
   "cell_type": "code",
   "execution_count": 1,
   "metadata": {
    "ExecuteTime": {
     "end_time": "2019-12-25T23:52:35.789390Z",
     "start_time": "2019-12-25T23:52:35.778414Z"
    }
   },
   "outputs": [
    {
     "name": "stdout",
     "output_type": "stream",
     "text": [
      "==LISTADO DE CLIENTES==\n",
      "[{'Nombre': 'Hector', 'Apellidos': 'Costa Guzman', 'dni': '11111111A'}, {'Nombre': 'Juan', 'Apellidos': 'González Márquez', 'dni': '22222222B'}]\n",
      "\n",
      "==MOSTRAR CLIENTES POR DNI==\n",
      "Hector Costa Guzman\n",
      "Cliente no encontrado\n",
      "\n",
      "==BORRAR CLIENTES POR DNI==\n",
      "Cliente no encontrado\n",
      "{'Nombre': 'Juan', 'Apellidos': 'González Márquez', 'dni': '22222222B'} > BORRADO\n",
      "\n",
      "==LISTADO DE CLIENTES==\n",
      "[{'Nombre': 'Hector', 'Apellidos': 'Costa Guzman', 'dni': '11111111A'}]\n"
     ]
    }
   ],
   "source": [
    "# Definimos unos cuantos clientes\n",
    "clientes= [\n",
    "    {'Nombre': 'Hector', 'Apellidos':'Costa Guzman', 'dni':'11111111A'},\n",
    "    {'Nombre': 'Juan', 'Apellidos':'González Márquez', 'dni':'22222222B'} \n",
    "]\n",
    "\n",
    "# Creamos una función que muestra un cliente en una lista a partir del DNI\n",
    "def mostrar_cliente(clientes, dni):\n",
    "    for c in clientes:\n",
    "        if (dni == c['dni']):\n",
    "            print('{} {}'.format(c['Nombre'],c['Apellidos']))\n",
    "            return\n",
    "    print('Cliente no encontrado')\n",
    "\n",
    "# Creamos una función que borra un cliente en una lista a partir del DNI\n",
    "def borrar_cliente(clientes, dni):\n",
    "    for i,c in enumerate(clientes):\n",
    "        if (dni == c['dni']):\n",
    "            del( clientes[i] )\n",
    "            print(str(c),\"> BORRADO\")\n",
    "            return\n",
    "\n",
    "    print('Cliente no encontrado')    \n",
    "\n",
    "### Fíjate muy bien cómo se utiliza el código estructurado\n",
    "\n",
    "print(\"==LISTADO DE CLIENTES==\")\n",
    "print(clientes)\n",
    "\n",
    "print(\"\\n==MOSTRAR CLIENTES POR DNI==\")\n",
    "mostrar_cliente(clientes, '11111111A')\n",
    "mostrar_cliente(clientes, '11111111Z')\n",
    "\n",
    "print(\"\\n==BORRAR CLIENTES POR DNI==\")\n",
    "borrar_cliente(clientes, '22222222V')\n",
    "borrar_cliente(clientes, '22222222B')\n",
    "\n",
    "print(\"\\n==LISTADO DE CLIENTES==\")\n",
    "print(clientes)"
   ]
  },
  {
   "cell_type": "markdown",
   "metadata": {},
   "source": [
    "# Ejemplo Orientado a Objetos "
   ]
  },
  {
   "cell_type": "code",
   "execution_count": 5,
   "metadata": {
    "ExecuteTime": {
     "end_time": "2019-12-25T23:53:26.398698Z",
     "start_time": "2019-12-25T23:53:26.386733Z"
    }
   },
   "outputs": [
    {
     "name": "stdout",
     "output_type": "stream",
     "text": [
      "==LISTADO DE CLIENTES==\n",
      "[<__main__.Cliente object at 0x000001CF094F7390>, <__main__.Cliente object at 0x000001CF094F7358>]\n",
      "\n",
      "==MOSTRAR CLIENTES POR DNI==\n",
      "Hector Costa Guzman\n",
      "Cliente no encontrado\n",
      "\n",
      "==BORRAR CLIENTES POR DNI==\n",
      "Cliente no encontrado\n",
      "Juan Gonzalez Marquez > BORRADO\n",
      "\n",
      "==LISTADO DE CLIENTES==\n",
      "[<__main__.Cliente object at 0x000001CF094F7390>]\n"
     ]
    }
   ],
   "source": [
    "### No intentes entender este código, sólo fíjate en cómo se utiliza abajo  \n",
    "\n",
    "# Creo una estructura para los clientes\n",
    "class Cliente:\n",
    "\n",
    "    def __init__(self, dni, nombre, apellidos):\n",
    "        self.dni = dni\n",
    "        self.nombre = nombre\n",
    "        self.apellidos = apellidos\n",
    "\n",
    "    def __str__(self):\n",
    "        return '{} {}'.format(self.nombre,self.apellidos)\n",
    "\n",
    "# Y otra para las empresas\n",
    "class Empresa:\n",
    "\n",
    "    def __init__(self, clientes=[]):\n",
    "        self.clientes = clientes\n",
    "\n",
    "    def mostrar_cliente(self, dni=None):\n",
    "        for c in self.clientes:\n",
    "            if c.dni == dni:\n",
    "                print(c)\n",
    "                return\n",
    "        print(\"Cliente no encontrado\")\n",
    "\n",
    "    def borrar_cliente(self, dni=None):\n",
    "        for i,c in enumerate(self.clientes):\n",
    "            if c.dni == dni:\n",
    "                del(self.clientes[i])\n",
    "                print(str(c),\"> BORRADO\")\n",
    "                return\n",
    "        print(\"Cliente no encontrado\")\n",
    "\n",
    "### Ahora utilizaré ambas estructuras \n",
    "\n",
    "# Creo un par de clientes\n",
    "hector = Cliente(nombre=\"Hector\", apellidos=\"Costa Guzman\", dni=\"11111111A\")\n",
    "juan = Cliente(\"22222222B\", \"Juan\", \"Gonzalez Marquez\")\n",
    "\n",
    "# Creo una empresa con los clientes iniciales\n",
    "empresa = Empresa(clientes=[hector, juan])\n",
    "\n",
    "# Muestro todos los clientes\n",
    "print(\"==LISTADO DE CLIENTES==\")\n",
    "print(empresa.clientes)\n",
    "\n",
    "print(\"\\n==MOSTRAR CLIENTES POR DNI==\")\n",
    "# Consulto clientes por DNI\n",
    "empresa.mostrar_cliente(\"11111111A\")\n",
    "empresa.mostrar_cliente(\"11111111Z\")\n",
    "\n",
    "print(\"\\n==BORRAR CLIENTES POR DNI==\")\n",
    "# Borro un cliente por DNI\n",
    "empresa.borrar_cliente(\"22222222V\")\n",
    "empresa.borrar_cliente(\"22222222B\")\n",
    "\n",
    "# Muestro de nuevo todos los clientes\n",
    "print(\"\\n==LISTADO DE CLIENTES==\")\n",
    "print(empresa.clientes)"
   ]
  },
  {
   "cell_type": "code",
   "execution_count": null,
   "metadata": {},
   "outputs": [],
   "source": []
  }
 ],
 "metadata": {
  "kernelspec": {
   "display_name": "Python 3",
   "language": "python",
   "name": "python3"
  },
  "language_info": {
   "codemirror_mode": {
    "name": "ipython",
    "version": 3
   },
   "file_extension": ".py",
   "mimetype": "text/x-python",
   "name": "python",
   "nbconvert_exporter": "python",
   "pygments_lexer": "ipython3",
   "version": "3.7.3"
  },
  "toc": {
   "base_numbering": 1,
   "nav_menu": {},
   "number_sections": true,
   "sideBar": true,
   "skip_h1_title": false,
   "title_cell": "Table of Contents",
   "title_sidebar": "Contents",
   "toc_cell": false,
   "toc_position": {},
   "toc_section_display": true,
   "toc_window_display": false
  },
  "varInspector": {
   "cols": {
    "lenName": 16,
    "lenType": 16,
    "lenVar": 40
   },
   "kernels_config": {
    "python": {
     "delete_cmd_postfix": "",
     "delete_cmd_prefix": "del ",
     "library": "var_list.py",
     "varRefreshCmd": "print(var_dic_list())"
    },
    "r": {
     "delete_cmd_postfix": ") ",
     "delete_cmd_prefix": "rm(",
     "library": "var_list.r",
     "varRefreshCmd": "cat(var_dic_list()) "
    }
   },
   "types_to_exclude": [
    "module",
    "function",
    "builtin_function_or_method",
    "instance",
    "_Feature"
   ],
   "window_display": false
  }
 },
 "nbformat": 4,
 "nbformat_minor": 2
}
