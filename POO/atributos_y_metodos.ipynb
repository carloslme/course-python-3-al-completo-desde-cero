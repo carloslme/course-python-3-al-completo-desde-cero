{
 "cells": [
  {
   "cell_type": "markdown",
   "metadata": {},
   "source": [
    "## Atributos"
   ]
  },
  {
   "cell_type": "markdown",
   "metadata": {},
   "source": [
    "### Atributos dinámicos\n",
    "Dado que Python es muy flexible los atributos pueden manejarse de distintas formas, por ejemplo se pueden crear dinámicamente (al vuelo) en los objetos."
   ]
  },
  {
   "cell_type": "code",
   "execution_count": 1,
   "metadata": {
    "ExecuteTime": {
     "end_time": "2019-12-27T03:07:39.383748Z",
     "start_time": "2019-12-27T03:07:39.378763Z"
    }
   },
   "outputs": [
    {
     "name": "stdout",
     "output_type": "stream",
     "text": [
      "El sabor de esta galleta es Chocolate y el color Roja\n"
     ]
    }
   ],
   "source": [
    "class Galleta():\n",
    "    pass\n",
    "\n",
    "galleta = Galleta()\n",
    "galleta.sabor = \"Chocolate\"\n",
    "galleta.color = \"Roja\"\n",
    "\n",
    "print(f\"El sabor de esta galleta es {galleta.sabor} \"\n",
    "      f\"y el color {galleta.color}\")"
   ]
  },
  {
   "cell_type": "markdown",
   "metadata": {},
   "source": [
    "### Atributos de clase\n",
    "Aunque la flexibilidad de los atributos dinámicos puede llegar a ser muy útil, tener que definir los atributos de esa forma es tedioso. Es más práctico definir unos atributos básicos en la clase. De esa manera todas las galletas podrían tener unos atributos por defecto:"
   ]
  },
  {
   "cell_type": "code",
   "execution_count": 7,
   "metadata": {
    "ExecuteTime": {
     "end_time": "2019-12-27T03:12:18.280040Z",
     "start_time": "2019-12-27T03:12:18.275085Z"
    }
   },
   "outputs": [
    {
     "name": "stdout",
     "output_type": "stream",
     "text": [
      "La galleta no tiene chocolate\n",
      "La galleta tiene chocolate\n"
     ]
    }
   ],
   "source": [
    "class Galleta():\n",
    "    chocolate = False\n",
    "\n",
    "galleta = Galleta()\n",
    "if galleta.chocolate:\n",
    "    print('La galleta tiene chocolate')\n",
    "else:\n",
    "    print('La galleta no tiene chocolate')\n",
    "\n",
    "# Luego podemos cambiar su valor en cualquier momento:\n",
    "\n",
    "galleta.chocolate = True\n",
    "if galleta.chocolate:\n",
    "    print('La galleta tiene chocolate')\n",
    "else:\n",
    "    print('La galleta no tiene chocolate')"
   ]
  },
  {
   "cell_type": "markdown",
   "metadata": {},
   "source": [
    "## Métodos"
   ]
  },
  {
   "cell_type": "markdown",
   "metadata": {
    "ExecuteTime": {
     "end_time": "2019-12-27T03:13:27.056898Z",
     "start_time": "2019-12-27T03:13:26.979130Z"
    }
   },
   "source": [
    "Los metodos son las \"funciones\" dentro de una clase, mientras que los atributos son las \"variables\" de lo que se denomina un programa estructurado."
   ]
  },
  {
   "cell_type": "markdown",
   "metadata": {},
   "source": [
    "### Métodos de clase y de instancia"
   ]
  },
  {
   "cell_type": "code",
   "execution_count": 16,
   "metadata": {
    "ExecuteTime": {
     "end_time": "2019-12-27T03:53:48.814967Z",
     "start_time": "2019-12-27T03:53:48.810977Z"
    }
   },
   "outputs": [
    {
     "name": "stdout",
     "output_type": "stream",
     "text": [
      "¡Hola! Soy una galleta bien rikolina\n"
     ]
    }
   ],
   "source": [
    "class Galleta:\n",
    "    chocolate = False\n",
    "    \n",
    "    def saludar():\n",
    "        print('¡Hola! Soy una galleta bien rikolina')\n",
    "\n",
    "# Esto es un metodo de instancia, genera error\n",
    "# galleta = Galleta()\n",
    "# galleta.saludar()\n",
    "\n",
    "# Esto es un metodo de clase\n",
    "Galleta.saludar()"
   ]
  },
  {
   "cell_type": "markdown",
   "metadata": {},
   "source": [
    "### Primer argumento self\n",
    "Cuando se ejecuta un método desde un objeto (que no desde una clase), se envía un primer argumento implícito que hace referencia al propio objeto. Si lo definimos en nuestro método podremos capturarlo y ver qué es:"
   ]
  },
  {
   "cell_type": "code",
   "execution_count": 20,
   "metadata": {
    "ExecuteTime": {
     "end_time": "2019-12-27T03:54:45.385887Z",
     "start_time": "2019-12-27T03:54:45.380900Z"
    }
   },
   "outputs": [
    {
     "name": "stdout",
     "output_type": "stream",
     "text": [
      "Hola, soy una galleta muy sabrosa\n",
      "<__main__.Galleta object at 0x000001B5AB0FAE48>\n",
      "<__main__.Galleta object at 0x000001B5AB0FAE48>\n"
     ]
    }
   ],
   "source": [
    "class Galleta:\n",
    "    chocolate = False\n",
    "    \n",
    "    def saludar(soy_el_propio_objeto):\n",
    "        print(\"Hola, soy una galleta muy sabrosa\")\n",
    "        print(soy_el_propio_objeto)\n",
    "\n",
    "galleta = Galleta()\n",
    "galleta.saludar()\n",
    "print(galleta)"
   ]
  },
  {
   "cell_type": "markdown",
   "metadata": {},
   "source": [
    "Podemos acceder al propio objeto desde el interior de sus métodos. Lo único que como este argumento hace referencia al objeto en sí mismo por convención se le llama self."
   ]
  },
  {
   "cell_type": "code",
   "execution_count": 22,
   "metadata": {
    "ExecuteTime": {
     "end_time": "2019-12-27T03:56:11.936071Z",
     "start_time": "2019-12-27T03:56:11.931085Z"
    }
   },
   "outputs": [
    {
     "name": "stdout",
     "output_type": "stream",
     "text": [
      "True\n"
     ]
    }
   ],
   "source": [
    "class Galleta:\n",
    "    chocolate = False\n",
    "\n",
    "    def chocolatear(self):\n",
    "        self.chocolate = True\n",
    "        \n",
    "galleta = Galleta()\n",
    "galleta.chocolatear()\n",
    "print(galleta.chocolate)"
   ]
  },
  {
   "cell_type": "markdown",
   "metadata": {},
   "source": [
    "Por defecto el valor de un atributo se busca en la clase, pero para modificarlo en la instancia es necesario hacer referencia al objeto (con self)."
   ]
  },
  {
   "cell_type": "markdown",
   "metadata": {},
   "source": [
    "##  Métodos especiales\n",
    "Se llaman especiales porque la mayoría ya existen de forma oculta y sirven para tareas específicas."
   ]
  },
  {
   "cell_type": "markdown",
   "metadata": {},
   "source": [
    "### Constructor\n",
    "El constructor es un método que se llama automáticamente al crear un objeto, se define con el nombre init.\n",
    "La finalidad del constructor es, como su nombre indica, construir los objetos. Por esa razón permite sobreescribir el método que crea los objetos, permitiéndonos enviar datos desde el principio para construirlo:"
   ]
  },
  {
   "cell_type": "code",
   "execution_count": 1,
   "metadata": {
    "ExecuteTime": {
     "end_time": "2019-12-28T04:24:33.771527Z",
     "start_time": "2019-12-28T04:24:33.766573Z"
    }
   },
   "outputs": [
    {
     "name": "stdout",
     "output_type": "stream",
     "text": [
      "¡Soy una galleta recien horneada!\n"
     ]
    }
   ],
   "source": [
    "class Galleta:\n",
    "    def __init__(self):\n",
    "        print(\"¡Soy una galleta recien horneada!\")\n",
    "galleta = Galleta()"
   ]
  },
  {
   "cell_type": "code",
   "execution_count": 4,
   "metadata": {
    "ExecuteTime": {
     "end_time": "2019-12-28T04:46:42.099670Z",
     "start_time": "2019-12-28T04:46:42.094710Z"
    }
   },
   "outputs": [
    {
     "name": "stdout",
     "output_type": "stream",
     "text": [
      "Se acaba de crear una galleta color negra y de sabor chocolate.\n",
      "Se acaba de crear una galleta color verde y de sabor manzana.\n"
     ]
    }
   ],
   "source": [
    "class Galleta:\n",
    "    chocolate = False\n",
    "    def __init__(self, sabor, color):\n",
    "        self.sabor = sabor\n",
    "        self.color = color\n",
    "        print(f\"Se acaba de crear una galleta color {self.color} y de sabor {self.sabor}.\")\n",
    "galleta1 = Galleta('chocolate', 'negra')\n",
    "galleta2 = Galleta('manzana', 'verde')"
   ]
  },
  {
   "cell_type": "markdown",
   "metadata": {},
   "source": [
    "### Destructor\n",
    "Se llama al eliminar el objeto para que se encargue de las tareas de limpieza como vaciar la memoria. Ese es el papel del método especial del. Es muy raro sobreescribir este método porque se maneja automáticamente, pero es interesante saber que existe.\n",
    "\n",
    "Todos los objetos se borran automáticamente de la memoria al finalizar el programa, aunque también podemos eliminarlos automáticamente pasándolos a la función del():"
   ]
  },
  {
   "cell_type": "code",
   "execution_count": 14,
   "metadata": {
    "ExecuteTime": {
     "end_time": "2019-12-28T05:14:53.164566Z",
     "start_time": "2019-12-28T05:14:53.160561Z"
    }
   },
   "outputs": [
    {
     "name": "stdout",
     "output_type": "stream",
     "text": [
      "La galleta se ha creado en la memoria\n",
      "La galleta se está borrando de la memoria\n"
     ]
    }
   ],
   "source": [
    "class Galleta:\n",
    "    def __init__(self):\n",
    "        print('La galleta se ha creado en la memoria')\n",
    "    def __del__(self):\n",
    "        print('La galleta se está borrando de la memoria')\n",
    "\n",
    "galleta = Galleta()\n",
    "del(galleta)\n",
    "# O tambien puede ser invocado de la siguiente forma\n",
    "# galleta.__del__()"
   ]
  },
  {
   "cell_type": "markdown",
   "metadata": {},
   "source": [
    "### Función str y len\n"
   ]
  },
  {
   "cell_type": "code",
   "execution_count": 27,
   "metadata": {
    "ExecuteTime": {
     "end_time": "2019-12-28T05:24:43.708862Z",
     "start_time": "2019-12-28T05:24:43.695043Z"
    }
   },
   "outputs": [
    {
     "name": "stdout",
     "output_type": "stream",
     "text": [
      "Galleta creada\n",
      "Galleta borrada\n"
     ]
    }
   ],
   "source": [
    "class Galleta:\n",
    "    def __init__(self, nombre):\n",
    "        self.nombre = nombre\n",
    "        print('Galleta creada')\n",
    "        \n",
    "    def __del__(self):\n",
    "        print('Galleta borrada')\n",
    "        \n",
    "    def __str__(self):\n",
    "        return f'El nombre de la galleta es {self.nombre}'\n",
    "    \n",
    "    def __len__(self):\n",
    "        return len(self.nombre)\n",
    "\n",
    "galleta = Galleta('Galletita')\n",
    "str(galleta)\n",
    "len(galleta)\n",
    "del(galleta)"
   ]
  },
  {
   "cell_type": "code",
   "execution_count": null,
   "metadata": {},
   "outputs": [],
   "source": []
  }
 ],
 "metadata": {
  "kernelspec": {
   "display_name": "Python 3",
   "language": "python",
   "name": "python3"
  },
  "language_info": {
   "codemirror_mode": {
    "name": "ipython",
    "version": 3
   },
   "file_extension": ".py",
   "mimetype": "text/x-python",
   "name": "python",
   "nbconvert_exporter": "python",
   "pygments_lexer": "ipython3",
   "version": "3.7.3"
  },
  "toc": {
   "base_numbering": 1,
   "nav_menu": {},
   "number_sections": true,
   "sideBar": true,
   "skip_h1_title": false,
   "title_cell": "Table of Contents",
   "title_sidebar": "Contents",
   "toc_cell": false,
   "toc_position": {},
   "toc_section_display": true,
   "toc_window_display": true
  },
  "varInspector": {
   "cols": {
    "lenName": 16,
    "lenType": 16,
    "lenVar": 40
   },
   "kernels_config": {
    "python": {
     "delete_cmd_postfix": "",
     "delete_cmd_prefix": "del ",
     "library": "var_list.py",
     "varRefreshCmd": "print(var_dic_list())"
    },
    "r": {
     "delete_cmd_postfix": ") ",
     "delete_cmd_prefix": "rm(",
     "library": "var_list.r",
     "varRefreshCmd": "cat(var_dic_list()) "
    }
   },
   "types_to_exclude": [
    "module",
    "function",
    "builtin_function_or_method",
    "instance",
    "_Feature"
   ],
   "window_display": true
  }
 },
 "nbformat": 4,
 "nbformat_minor": 2
}
