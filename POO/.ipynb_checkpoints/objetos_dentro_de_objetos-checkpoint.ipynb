{
 "cells": [
  {
   "cell_type": "markdown",
   "metadata": {
    "ExecuteTime": {
     "end_time": "2019-12-28T05:28:19.289262Z",
     "start_time": "2019-12-28T05:28:19.286297Z"
    }
   },
   "source": [
    "Las clases se pueden poner en colecciones e incluso utilizarlos dentro de otras clases\n"
   ]
  },
  {
   "cell_type": "code",
   "execution_count": 14,
   "metadata": {
    "ExecuteTime": {
     "end_time": "2019-12-28T05:38:13.423720Z",
     "start_time": "2019-12-28T05:38:13.414304Z"
    }
   },
   "outputs": [
    {
     "name": "stdout",
     "output_type": "stream",
     "text": [
      "Se ha creado la pelicula Superman\n",
      "La pelicula es Superman, la duración es de 120 minutos y el lanzamiento fue en el año 2013.\n",
      "Se ha creado la pelicula Batman vs Superman\n",
      "La pelicula es Superman, la duración es de 120 minutos y el lanzamiento fue en el año 2013.\n",
      "La pelicula es Batman vs Superman, la duración es de 180 minutos y el lanzamiento fue en el año 2015.\n"
     ]
    }
   ],
   "source": [
    "class Pelicula:\n",
    "    \n",
    "    # Constructor de clase\n",
    "    def __init__(self, titulo, duracion, lanzamiento):\n",
    "        self.titulo = titulo\n",
    "        self.duracion = duracion\n",
    "        self.lanzamiento = lanzamiento\n",
    "        print('Se ha creado la pelicula {}'.format(self.titulo))\n",
    "    \n",
    "    def __str__(self):\n",
    "        return 'La pelicula es {}, la duración es de {} minutos y el lanzamiento fue en el año {}.'.format(self.titulo, self.duracion, self.lanzamiento)\n",
    "    \n",
    "class Catalogo:\n",
    "    peliculas = []\n",
    "    \n",
    "    def __init__(self, peliculas=[]):\n",
    "        self.peliculas = peliculas\n",
    "    \n",
    "    def agregar(self, p): # p será un objeto Pelicula\n",
    "        self.peliculas.append(p)\n",
    "        \n",
    "    def mostrar(self):\n",
    "        for p in self.peliculas:\n",
    "            print(p) # Print toma por defecto str(p)\n",
    "        \n",
    "pelicula = Pelicula('Superman', 120, 2013)\n",
    "c = Catalogo([pelicula]) # Añadimos una lista con una pelicula desde el principio\n",
    "c.mostrar()\n",
    "c.agregar(Pelicula('Batman vs Superman', 180, 2015))\n",
    "c.mostrar()"
   ]
  },
  {
   "cell_type": "code",
   "execution_count": null,
   "metadata": {},
   "outputs": [],
   "source": []
  }
 ],
 "metadata": {
  "kernelspec": {
   "display_name": "Python 3",
   "language": "python",
   "name": "python3"
  },
  "language_info": {
   "codemirror_mode": {
    "name": "ipython",
    "version": 3
   },
   "file_extension": ".py",
   "mimetype": "text/x-python",
   "name": "python",
   "nbconvert_exporter": "python",
   "pygments_lexer": "ipython3",
   "version": "3.7.3"
  },
  "toc": {
   "base_numbering": 1,
   "nav_menu": {},
   "number_sections": true,
   "sideBar": true,
   "skip_h1_title": false,
   "title_cell": "Table of Contents",
   "title_sidebar": "Contents",
   "toc_cell": false,
   "toc_position": {},
   "toc_section_display": true,
   "toc_window_display": false
  },
  "varInspector": {
   "cols": {
    "lenName": 16,
    "lenType": 16,
    "lenVar": 40
   },
   "kernels_config": {
    "python": {
     "delete_cmd_postfix": "",
     "delete_cmd_prefix": "del ",
     "library": "var_list.py",
     "varRefreshCmd": "print(var_dic_list())"
    },
    "r": {
     "delete_cmd_postfix": ") ",
     "delete_cmd_prefix": "rm(",
     "library": "var_list.r",
     "varRefreshCmd": "cat(var_dic_list()) "
    }
   },
   "types_to_exclude": [
    "module",
    "function",
    "builtin_function_or_method",
    "instance",
    "_Feature"
   ],
   "window_display": false
  }
 },
 "nbformat": 4,
 "nbformat_minor": 2
}
