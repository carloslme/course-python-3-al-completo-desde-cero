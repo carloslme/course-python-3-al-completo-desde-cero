{
 "cells": [
  {
   "cell_type": "markdown",
   "metadata": {},
   "source": [
    "Ejercicio\n",
    "- Crea una clase llamada Punto con sus dos coordenadas X e Y.\n",
    "- Añade un método constructor para crear puntos fácilmente. Si no se reciben una coordenada, su valor será cero.\n",
    "- Sobreescribe el método string, para que al imprimir por pantalla un punto aparezca en formato (X,Y)\n",
    "- Añade un método llamado cuadrante que indique a qué cuadrante pertenece el punto, teniendo en cuenta que si X == 0 e Y != 0 se sitúa sobre el eje Y, si X != 0 e Y == 0 se sitúa sobre el eje X y si X == 0 e Y == 0 está sobre el origen.\n",
    "- Añade un método llamado vector, que tome otro punto y calcule el vector resultante entre los dos puntos.\n",
    "- (Optativo) Añade un método llamado distancia, que tome otro punto y calcule la distancia entre los dos puntos y la muestre por pantalla. La fórmula empleada es la de distancia entre dos puntos."
   ]
  },
  {
   "cell_type": "code",
   "execution_count": 71,
   "metadata": {
    "ExecuteTime": {
     "end_time": "2020-01-02T05:57:02.149483Z",
     "start_time": "2020-01-02T05:57:02.134523Z"
    }
   },
   "outputs": [],
   "source": [
    "import math\n",
    "\n",
    "class Punto:    \n",
    "    def __init__(self, coordenada_x=0, coordenada_y=0):\n",
    "        self.coordenada_x = coordenada_x\n",
    "        self.coordenada_y = coordenada_y\n",
    "                    \n",
    "    def __str__(self):\n",
    "        return '({},{})'.format(self.coordenada_x, self.coordenada_y)\n",
    "    \n",
    "    def cuadrante(self):\n",
    "        if self.coordenada_x > 0 and self.coordenada_y > 0:\n",
    "            print('El punto {} se situa sobre el Cuadrante 1'.format(self))\n",
    "        elif self.coordenada_x < 0 and self.coordenada_y > 0:\n",
    "            print('El punto {} se situa sobre el Cuadrante 2'.format(self))\n",
    "        elif self.coordenada_x < 0 and self.coordenada_y < 0:\n",
    "            print('El punto {} se situa sobre el Cuadrante 3'.format(self))\n",
    "        elif self.coordenada_x > 0 and self.coordenada_y < 0:\n",
    "            print('El punto {} se situa sobre el Cuadrante 4'.format(self))\n",
    "        elif self.coordenada_x != 0 and self.coordenada_y == 0:\n",
    "            print('El punto {} se situa sobre el cuadrante X'.format(self))\n",
    "        elif self.coordenada_x == 0 and self.coordenada_y != 0:\n",
    "            print('El punto {} se situa sobre el cuadrante Y'.format(self))\n",
    "        elif self.coordenada_x == 0 and self.coordenada_y == 0:\n",
    "            print('El punto se situa sobre el origen')\n",
    "    \n",
    "    def vector(self, p):\n",
    "        print('El vector entre {} y {} es ({},{})'.format(\n",
    "        self, p, p.coordenada_x - self.coordenada_y, p.coordenada_y - self.coordenada_x))\n",
    "    \n",
    "    def distancia(self, p):\n",
    "        print('La distancia los puntos {} y {} es {}'.format(self, p, math.sqrt(((p.coordenada_x-self.coordenada_x)**2)\n",
    "                                                                       +((p.coordenada_y-self.coordenada_y)**2))))\n",
    "    \n",
    "class Rectangulo:        \n",
    "        def __init__(self, punto_inicial=Punto(), punto_final=Punto()):\n",
    "            self.punto_inicial = punto_inicial\n",
    "            self.punto_final = punto_final\n",
    "            \n",
    "            self.vBase = abs(self.punto_final.coordenada_x - self.punto_inicial.coordenada_x)\n",
    "            self.vAltura = abs(self.punto_final.coordenada_y - self.punto_inicial.coordenada_y)\n",
    "            self.vArea = self.vBase * self.vAltura\n",
    "                        \n",
    "        def base(self):\n",
    "            print('La base es: {}'.format( self.vBase ))\n",
    "        \n",
    "        def altura(self):\n",
    "            print('La altura es: ', self.vAltura)\n",
    "        \n",
    "        def area(self):\n",
    "            print('El area es: {}x{}={}'.format(self.vBase, self.vAltura, self.vBase*self.vAltura))\n",
    "        \n",
    "            \n",
    "    \n",
    "    \n",
    "        "
   ]
  },
  {
   "cell_type": "code",
   "execution_count": null,
   "metadata": {},
   "outputs": [],
   "source": []
  },
  {
   "cell_type": "markdown",
   "metadata": {},
   "source": [
    "Experimentación\n",
    "- Crea los puntos A(2, 3), B(5,5), C(-3, -1) y D(0,0) e imprimelos por pantalla.\n",
    "- Consulta a que cuadrante pertenecen el punto A, C y D.\n",
    "- Consulta los vectores AB y BA.\n",
    "- (Optativo) Consulta la distancia entre los puntos 'A y B' y 'B y A'.\n",
    "- (Optativo) Determina cual de los 3 puntos A, B o C, se encuentra más lejos del origen, punto (0,0).\n",
    "- Crea un rectángulo utilizando los puntos A y B.\n",
    "- Consulta la base, altura y área del rectángulo.\n"
   ]
  },
  {
   "cell_type": "code",
   "execution_count": 72,
   "metadata": {
    "ExecuteTime": {
     "end_time": "2020-01-02T05:57:08.890067Z",
     "start_time": "2020-01-02T05:57:08.886077Z"
    }
   },
   "outputs": [],
   "source": [
    "A = Punto(2,3)\n",
    "B = Punto(5,5)\n",
    "C = Punto(-3,-1)\n",
    "D = Punto(0,0)\n",
    "# str(A)\n",
    "# str(B)\n",
    "# str(C)\n",
    "# str(D)"
   ]
  },
  {
   "cell_type": "code",
   "execution_count": 23,
   "metadata": {
    "ExecuteTime": {
     "end_time": "2020-01-02T05:17:26.598144Z",
     "start_time": "2020-01-02T05:17:26.579918Z"
    }
   },
   "outputs": [
    {
     "name": "stdout",
     "output_type": "stream",
     "text": [
      "El punto (2,3) se situa sobre el Cuadrante 1\n",
      "El punto (5,5) se situa sobre el Cuadrante 1\n",
      "El punto (-3,-1) se situa sobre el Cuadrante 3\n",
      "El punto se situa sobre el origen\n"
     ]
    }
   ],
   "source": [
    "A.cuadrante()\n",
    "B.cuadrante()\n",
    "C.cuadrante()\n",
    "D.cuadrante()"
   ]
  },
  {
   "cell_type": "code",
   "execution_count": 32,
   "metadata": {
    "ExecuteTime": {
     "end_time": "2020-01-02T05:21:41.312202Z",
     "start_time": "2020-01-02T05:21:41.308213Z"
    }
   },
   "outputs": [
    {
     "name": "stdout",
     "output_type": "stream",
     "text": [
      "El vector entre (2,3) y (5,5) es (2,3)\n",
      "El vector entre (5,5) y (2,3) es (-3,-2)\n"
     ]
    }
   ],
   "source": [
    "A.vector(B)\n",
    "B.vector(A)"
   ]
  },
  {
   "cell_type": "code",
   "execution_count": 37,
   "metadata": {
    "ExecuteTime": {
     "end_time": "2020-01-02T05:38:24.681544Z",
     "start_time": "2020-01-02T05:38:24.677520Z"
    }
   },
   "outputs": [
    {
     "name": "stdout",
     "output_type": "stream",
     "text": [
      "La distancia los puntos (2,3) y (5,5) es 3.605551275463989\n",
      "La distancia los puntos (5,5) y (2,3) es 3.605551275463989\n"
     ]
    }
   ],
   "source": [
    "A.distancia(B)\n",
    "B.distancia(A)"
   ]
  },
  {
   "cell_type": "code",
   "execution_count": 38,
   "metadata": {
    "ExecuteTime": {
     "end_time": "2020-01-02T05:40:07.008617Z",
     "start_time": "2020-01-02T05:40:07.004626Z"
    }
   },
   "outputs": [],
   "source": [
    "# Optativo"
   ]
  },
  {
   "cell_type": "code",
   "execution_count": 73,
   "metadata": {
    "ExecuteTime": {
     "end_time": "2020-01-02T05:57:10.323220Z",
     "start_time": "2020-01-02T05:57:10.319231Z"
    }
   },
   "outputs": [
    {
     "name": "stdout",
     "output_type": "stream",
     "text": [
      "La base es: 3\n",
      "La altura es:  2\n",
      "El area es: 3x2=6\n"
     ]
    }
   ],
   "source": [
    "rectangulo = Rectangulo(A, B)\n",
    "rectangulo.base()\n",
    "rectangulo.altura()\n",
    "rectangulo.area()"
   ]
  },
  {
   "cell_type": "code",
   "execution_count": null,
   "metadata": {},
   "outputs": [],
   "source": []
  }
 ],
 "metadata": {
  "kernelspec": {
   "display_name": "Python 3",
   "language": "python",
   "name": "python3"
  },
  "language_info": {
   "codemirror_mode": {
    "name": "ipython",
    "version": 3
   },
   "file_extension": ".py",
   "mimetype": "text/x-python",
   "name": "python",
   "nbconvert_exporter": "python",
   "pygments_lexer": "ipython3",
   "version": "3.7.3"
  },
  "toc": {
   "base_numbering": 1,
   "nav_menu": {},
   "number_sections": true,
   "sideBar": true,
   "skip_h1_title": false,
   "title_cell": "Table of Contents",
   "title_sidebar": "Contents",
   "toc_cell": false,
   "toc_position": {},
   "toc_section_display": true,
   "toc_window_display": false
  },
  "varInspector": {
   "cols": {
    "lenName": 16,
    "lenType": 16,
    "lenVar": 40
   },
   "kernels_config": {
    "python": {
     "delete_cmd_postfix": "",
     "delete_cmd_prefix": "del ",
     "library": "var_list.py",
     "varRefreshCmd": "print(var_dic_list())"
    },
    "r": {
     "delete_cmd_postfix": ") ",
     "delete_cmd_prefix": "rm(",
     "library": "var_list.r",
     "varRefreshCmd": "cat(var_dic_list()) "
    }
   },
   "position": {
    "height": "292px",
    "left": "1099px",
    "right": "20px",
    "top": "190px",
    "width": "350px"
   },
   "types_to_exclude": [
    "module",
    "function",
    "builtin_function_or_method",
    "instance",
    "_Feature"
   ],
   "window_display": true
  }
 },
 "nbformat": 4,
 "nbformat_minor": 2
}
