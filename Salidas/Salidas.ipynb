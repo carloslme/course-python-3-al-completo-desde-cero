{
 "nbformat": 4,
 "nbformat_minor": 2,
 "metadata": {
  "language_info": {
   "name": "python",
   "codemirror_mode": {
    "name": "ipython",
    "version": 3
   },
   "version": "3.7.3"
  },
  "orig_nbformat": 2,
  "file_extension": ".py",
  "mimetype": "text/x-python",
  "name": "python",
  "npconvert_exporter": "python",
  "pygments_lexer": "ipython3",
  "version": 3
 },
 "cells": [
  {
   "cell_type": "code",
   "execution_count": 12,
   "metadata": {},
   "outputs": [
    {
     "name": "stdout",
     "output_type": "stream",
     "text": "Un texto de prueba y un numero 10\n"
    }
   ],
   "source": [
    "v = 'de prueba'\n",
    "n = 10\n",
    "c = 'Un texto {} y un numero {}'.format(v,n)\n",
    "print(c)"
   ]
  },
  {
   "cell_type": "code",
   "execution_count": 10,
   "metadata": {},
   "outputs": [
    {
     "name": "stdout",
     "output_type": "stream",
     "text": "Un texto 10 y un numero de prueba\n"
    }
   ],
   "source": [
    "print('Un texto {1} y un numero {0}'.format(v,n))"
   ]
  },
  {
   "cell_type": "code",
   "execution_count": 9,
   "metadata": {},
   "outputs": [
    {
     "name": "stdout",
     "output_type": "stream",
     "text": "Un texto de prueba y un numero 10\n"
    }
   ],
   "source": [
    "print('Un texto {t} y un numero {n}'.format(t = v,n = n))"
   ]
  },
  {
   "cell_type": "code",
   "execution_count": 23,
   "metadata": {},
   "outputs": [
    {
     "name": "stdout",
     "output_type": "stream",
     "text": "palabra\n"
    }
   ],
   "source": [
    "print( \"{:>30}\".format(\"palabra\") ) # Alineamiento a la derecha en 30 caracteres"
   ]
  },
  {
   "cell_type": "code",
   "execution_count": 24,
   "metadata": {},
   "outputs": [
    {
     "name": "stdout",
     "output_type": "stream",
     "text": "palabra                       \n"
    }
   ],
   "source": [
    "print( \"{:30}\".format(\"palabra\") ) # Alineamiento a la izquierda en 30 caracteres"
   ]
  },
  {
   "cell_type": "code",
   "execution_count": 25,
   "metadata": {},
   "outputs": [
    {
     "name": "stdout",
     "output_type": "stream",
     "text": "palabra            \n"
    }
   ],
   "source": [
    "print( \"{:^30}\".format(\"palabra\") ) # Alineamiento al centro en 30 caracteres"
   ]
  },
  {
   "cell_type": "code",
   "execution_count": 26,
   "metadata": {},
   "outputs": [
    {
     "name": "stdout",
     "output_type": "stream",
     "text": "pal\n"
    }
   ],
   "source": [
    "print( \"{:.3}\".format(\"palabra\") ) # Truncamiento a 3 caracteres"
   ]
  },
  {
   "cell_type": "code",
   "execution_count": 27,
   "metadata": {},
   "outputs": [
    {
     "name": "stdout",
     "output_type": "stream",
     "text": "pal\n"
    }
   ],
   "source": [
    "print( \"{:>30.3}\".format(\"palabra\") ) # Alineamiento a la derecha en 30 caracteres con truncamiento en 3"
   ]
  },
  {
   "source": [
    "# Formateo de números enteros, rellenados con ceros\n",
    "print(\"{:04d}\".format(10))\n",
    "print(\"{:04d}\".format(100))\n",
    "print(\"{:04d}\".format(1000))"
   ],
   "cell_type": "code",
   "outputs": [
    {
     "output_type": "stream",
     "name": "stdout",
     "text": "0010\n0100\n1000\n"
    }
   ],
   "metadata": {},
   "execution_count": 32
  },
  {
   "source": [
    "# Formateo de números flotantes, rellenados con ceros:\n",
    "\n",
    "print(\"{:07.3f}\".format(3.1415926))\n",
    "print(\"{:07.3f}\".format(153.21))"
   ],
   "cell_type": "code",
   "outputs": [
    {
     "output_type": "stream",
     "name": "stdout",
     "text": "003.142\n153.210\n"
    }
   ],
   "metadata": {},
   "execution_count": 34
  },
  {
   "cell_type": "code",
   "execution_count": null,
   "metadata": {},
   "outputs": [],
   "source": []
  },
  {
   "source": [
    "# Formateo de números enteros, rellenados con espacios\n",
    "print(\"{:4d}\".format(10))\n",
    "print(\"{:4d}\".format(100))\n",
    "print(\"{:4d}\".format(1000))"
   ],
   "cell_type": "code",
   "outputs": [
    {
     "output_type": "stream",
     "name": "stdout",
     "text": "10\n 100\n1000\n"
    }
   ],
   "metadata": {},
   "execution_count": 29
  }
 ]
}