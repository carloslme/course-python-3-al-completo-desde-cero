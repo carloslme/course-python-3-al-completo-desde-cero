{
 "cells": [
  {
   "cell_type": "markdown",
   "metadata": {},
   "source": [
    "### Ejemplo sin herencia"
   ]
  },
  {
   "cell_type": "code",
   "execution_count": 1,
   "metadata": {
    "ExecuteTime": {
     "end_time": "2020-01-05T04:12:20.416064Z",
     "start_time": "2020-01-05T04:12:20.410078Z"
    }
   },
   "outputs": [
    {
     "name": "stdout",
     "output_type": "stream",
     "text": [
      "<__main__.Producto object at 0x00000286AE5BBD68>\n",
      "ADORNO\n"
     ]
    }
   ],
   "source": [
    "class Producto:\n",
    "    def __init__(self, referencia, tipo, nombre,\n",
    "                pvp, descripcion, productor=None,\n",
    "                distribuidor=None, isbn=None, autor=None):\n",
    "        self.referencia = referencia\n",
    "        self.tipo = tipo\n",
    "        self.nombre = nombre\n",
    "        self.pvp = pvp\n",
    "        self.descripcion = descripcion\n",
    "        self.productor = productor\n",
    "        self.distribuidor = distribuidor\n",
    "        self.isbn = isbn\n",
    "        self.autor = autor\n",
    "        \n",
    "adorno = Producto('000A','ADORNO','Vaso Adornado',15,\n",
    "                  'Vaso de porcelana con dibujos') \n",
    "print(adorno)\n",
    "print(adorno.tipo)"
   ]
  },
  {
   "cell_type": "markdown",
   "metadata": {},
   "source": [
    "### Superclases\n",
    "Así pues la idea de la herencia es identificar una clase base (la superclase) con los atributos comunes y luego crear las demás clases heredando de ella (las subclases) extendiendo sus campos específicos. En nuestro caso esa clase sería el Producto en sí mismo:"
   ]
  },
  {
   "cell_type": "code",
   "execution_count": 2,
   "metadata": {
    "ExecuteTime": {
     "end_time": "2020-01-05T04:14:57.226937Z",
     "start_time": "2020-01-05T04:14:57.220985Z"
    }
   },
   "outputs": [],
   "source": [
    "class Producto:\n",
    "    def __init__(self, referencia, nombre, pvp, descripcion):\n",
    "        self.referencia = referencia\n",
    "        self.nombre = nombre\n",
    "        self.pvp = pvp\n",
    "        self.descripcion = descripcion\n",
    "    def __str__(self):\n",
    "        return f\"REFERENCIA\\t {self.referencia}\\n\" \\\n",
    "               f\"NOMBRE\\t\\t {self.nombre}\\n\" \\\n",
    "               f\"PVP\\t\\t {self.pvp}\\n\" \\\n",
    "               f\"DESCRIPCIÓN\\t {self.descripcion}\\n\""
   ]
  },
  {
   "cell_type": "markdown",
   "metadata": {},
   "source": [
    "### Subclases\n",
    "Para heredar los atributos y métodos de una clase en otra sólo tenemos que pasarla entre paréntesis durante la definición:"
   ]
  },
  {
   "cell_type": "code",
   "execution_count": 3,
   "metadata": {
    "ExecuteTime": {
     "end_time": "2020-01-05T04:16:26.105260Z",
     "start_time": "2020-01-05T04:16:26.101266Z"
    }
   },
   "outputs": [
    {
     "name": "stdout",
     "output_type": "stream",
     "text": [
      "REFERENCIA\t 2034\n",
      "NOMBRE\t\t Vaso adornado\n",
      "PVP\t\t 15\n",
      "DESCRIPCIÓN\t Vaso de porcelana\n",
      "\n"
     ]
    }
   ],
   "source": [
    "class Adorno(Producto):\n",
    "    pass\n",
    "\n",
    "adorno =  Adorno(2034, \"Vaso adornado\", 15, \"Vaso de porcelana\")\n",
    "print(adorno)"
   ]
  },
  {
   "cell_type": "code",
   "execution_count": 8,
   "metadata": {
    "ExecuteTime": {
     "end_time": "2020-01-05T04:22:14.089924Z",
     "start_time": "2020-01-05T04:22:14.084913Z"
    }
   },
   "outputs": [],
   "source": [
    "class Alimento(Producto):\n",
    "    productor = \"\"\n",
    "    distribuidor = \"\"\n",
    "    \n",
    "    def __str__(self):\n",
    "        return f\"REFERENCIA\\t {self.referencia}\\n\" \\\n",
    "               f\"NOMBRE\\t\\t {self.nombre}\\n\" \\\n",
    "               f\"PVP\\t\\t {self.pvp}\\n\" \\\n",
    "               f\"DESCRIPCIÓN\\t {self.descripcion}\\n\" \\\n",
    "               f\"PRODUCTOR\\t {self.productor}\\n\" \\\n",
    "               f\"DISTRIBUIDOR\\t {self.distribuidor}\\n\"\n",
    "\n",
    "class Libro(Producto):\n",
    "    isbn = \"\"\n",
    "    autor = \"\"\n",
    "    \n",
    "    def __str__(self):\n",
    "        return f\"REFERENCIA\\t {self.referencia}\\n\" \\\n",
    "               f\"NOMBRE\\t\\t {self.nombre}\\n\" \\\n",
    "               f\"PVP\\t\\t {self.pvp}\\n\" \\\n",
    "               f\"DESCRIPCIÓN\\t {self.descripcion}\\n\" \\\n",
    "               f\"ISBN\\t\\t {self.isbn}\\n\" \\\n",
    "               f\"AUTOR\\t\\t {self.autor}\\n\""
   ]
  },
  {
   "cell_type": "code",
   "execution_count": 9,
   "metadata": {
    "ExecuteTime": {
     "end_time": "2020-01-05T04:22:15.673398Z",
     "start_time": "2020-01-05T04:22:15.669412Z"
    }
   },
   "outputs": [
    {
     "name": "stdout",
     "output_type": "stream",
     "text": [
      "REFERENCIA\t 2035\n",
      "NOMBRE\t\t Botella de Aceite de Oliva\n",
      "PVP\t\t 5\n",
      "DESCRIPCIÓN\t 250 ML\n",
      "PRODUCTOR\t La Aceitera\n",
      "DISTRIBUIDOR\t \n",
      "\n",
      "REFERENCIA\t 2035\n",
      "NOMBRE\t\t Botella de Aceite de Oliva\n",
      "PVP\t\t 5\n",
      "DESCRIPCIÓN\t 250 ML\n",
      "PRODUCTOR\t La Aceitera\n",
      "DISTRIBUIDOR\t Distribuciones SA\n",
      "\n"
     ]
    }
   ],
   "source": [
    "alimento = Alimento(2035, \"Botella de Aceite de Oliva\", 5, \"250 ML\")\n",
    "alimento.productor = \"La Aceitera\"\n",
    "print(alimento)\n",
    "alimento.distribuidor = \"Distribuciones SA\"\n",
    "print(alimento)"
   ]
  },
  {
   "cell_type": "code",
   "execution_count": 17,
   "metadata": {
    "ExecuteTime": {
     "end_time": "2020-01-05T04:29:26.145705Z",
     "start_time": "2020-01-05T04:29:26.141729Z"
    }
   },
   "outputs": [
    {
     "name": "stdout",
     "output_type": "stream",
     "text": [
      "REFERENCIA\t 2036\n",
      "NOMBRE\t\t Cocina Mediterránea\n",
      "PVP\t\t 9\n",
      "DESCRIPCIÓN\t Recetas sanas y buenas\n",
      "ISBN\t\t 0-123456-78-9\n",
      "AUTOR\t\t Doña Juana\n",
      "\n"
     ]
    }
   ],
   "source": [
    "libro = Libro(2036, \"Cocina Mediterránea\",9, \"Recetas sanas y buenas\")\n",
    "libro.isbn = \"0-123456-78-9\"\n",
    "libro.autor = \"Doña Juana\"\n",
    "print(libro)"
   ]
  },
  {
   "cell_type": "markdown",
   "metadata": {},
   "source": [
    "### Trabajando en conjunto\n",
    "Gracias a la flexibilidad de Python podemos manejar objetos de distintas clases masivamente de una forma muy simple."
   ]
  },
  {
   "cell_type": "code",
   "execution_count": 11,
   "metadata": {
    "ExecuteTime": {
     "end_time": "2020-01-05T04:24:10.873384Z",
     "start_time": "2020-01-05T04:24:10.869405Z"
    }
   },
   "outputs": [
    {
     "name": "stdout",
     "output_type": "stream",
     "text": [
      "[<__main__.Adorno object at 0x00000286AE5AB128>, <__main__.Alimento object at 0x00000286AF854828>, <__main__.Libro object at 0x00000286AF30BE10>]\n"
     ]
    }
   ],
   "source": [
    "productos = [adorno, alimento]\n",
    "productos.append(libro)\n",
    "print(productos)"
   ]
  },
  {
   "cell_type": "code",
   "execution_count": 12,
   "metadata": {
    "ExecuteTime": {
     "end_time": "2020-01-05T04:24:49.630282Z",
     "start_time": "2020-01-05T04:24:49.620282Z"
    }
   },
   "outputs": [
    {
     "name": "stdout",
     "output_type": "stream",
     "text": [
      "REFERENCIA\t 2034\n",
      "NOMBRE\t\t Vaso adornado\n",
      "PVP\t\t 15\n",
      "DESCRIPCIÓN\t Vaso de porcelana\n",
      " \n",
      "\n",
      "REFERENCIA\t 2035\n",
      "NOMBRE\t\t Botella de Aceite de Oliva\n",
      "PVP\t\t 5\n",
      "DESCRIPCIÓN\t 250 ML\n",
      "PRODUCTOR\t La Aceitera\n",
      "DISTRIBUIDOR\t Distribuciones SA\n",
      " \n",
      "\n",
      "REFERENCIA\t 2036\n",
      "NOMBRE\t\t Cocina Mediterránea\n",
      "PVP\t\t 9\n",
      "DESCRIPCIÓN\t Recetas sanas y buenas\n",
      "ISBN\t\t 0-123456-78-9\n",
      "AUTOR\t\t Doña Juana\n",
      " \n",
      "\n"
     ]
    }
   ],
   "source": [
    "for producto in productos:\n",
    "    print(producto, \"\\n\")"
   ]
  },
  {
   "cell_type": "markdown",
   "metadata": {},
   "source": [
    "Podemos hacer una comprobación con la función isinstance() para determinar si una instancia es de una determinado clase y así mostrar unos atributos u otros:"
   ]
  },
  {
   "cell_type": "code",
   "execution_count": 14,
   "metadata": {
    "ExecuteTime": {
     "end_time": "2020-01-05T04:28:05.188573Z",
     "start_time": "2020-01-05T04:28:05.181628Z"
    }
   },
   "outputs": [
    {
     "name": "stdout",
     "output_type": "stream",
     "text": [
      "2034 Vaso adornado\n",
      "2035 Botella de Aceite de Oliva La Aceitera\n",
      "2036 Cocina Mediterránea 0-123456-78-9\n"
     ]
    }
   ],
   "source": [
    "for producto in productos:\n",
    "    if(isinstance(producto, Adorno)):\n",
    "        print(producto.referencia, producto.nombre)\n",
    "    elif(isinstance(producto, Alimento)):\n",
    "        print(producto.referencia, producto.nombre, producto.productor)\n",
    "    elif(isinstance(producto, Libro)):\n",
    "        print(producto.referencia, producto.nombre, producto.isbn) "
   ]
  },
  {
   "cell_type": "code",
   "execution_count": null,
   "metadata": {},
   "outputs": [],
   "source": []
  }
 ],
 "metadata": {
  "kernelspec": {
   "display_name": "Python 3",
   "language": "python",
   "name": "python3"
  },
  "language_info": {
   "codemirror_mode": {
    "name": "ipython",
    "version": 3
   },
   "file_extension": ".py",
   "mimetype": "text/x-python",
   "name": "python",
   "nbconvert_exporter": "python",
   "pygments_lexer": "ipython3",
   "version": "3.7.4"
  },
  "toc": {
   "base_numbering": 1,
   "nav_menu": {},
   "number_sections": true,
   "sideBar": true,
   "skip_h1_title": false,
   "title_cell": "Table of Contents",
   "title_sidebar": "Contents",
   "toc_cell": false,
   "toc_position": {},
   "toc_section_display": true,
   "toc_window_display": false
  },
  "varInspector": {
   "cols": {
    "lenName": 16,
    "lenType": 16,
    "lenVar": 40
   },
   "kernels_config": {
    "python": {
     "delete_cmd_postfix": "",
     "delete_cmd_prefix": "del ",
     "library": "var_list.py",
     "varRefreshCmd": "print(var_dic_list())"
    },
    "r": {
     "delete_cmd_postfix": ") ",
     "delete_cmd_prefix": "rm(",
     "library": "var_list.r",
     "varRefreshCmd": "cat(var_dic_list()) "
    }
   },
   "position": {
    "height": "176px",
    "left": "1070px",
    "right": "20px",
    "top": "120px",
    "width": "350px"
   },
   "types_to_exclude": [
    "module",
    "function",
    "builtin_function_or_method",
    "instance",
    "_Feature"
   ],
   "window_display": true
  }
 },
 "nbformat": 4,
 "nbformat_minor": 2
}
