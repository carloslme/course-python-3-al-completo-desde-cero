{
 "cells": [
  {
   "cell_type": "markdown",
   "metadata": {},
   "source": [
    "Hasta ahora sabemos que una clase heredada puede fácilmente extender algunas funcionalidades, simplemente añadiendo nuevos atributos y métodos, o sobreescribiendo los ya existentes."
   ]
  },
  {
   "cell_type": "code",
   "execution_count": 8,
   "metadata": {
    "ExecuteTime": {
     "end_time": "2020-01-06T05:35:59.661111Z",
     "start_time": "2020-01-06T05:35:59.654362Z"
    }
   },
   "outputs": [
    {
     "name": "stdout",
     "output_type": "stream",
     "text": [
      "Color Azul, 4 ruedas, 150 km/h, 1200 cc\n"
     ]
    }
   ],
   "source": [
    "class Vehiculo:\n",
    "    def __init__(self, color, ruedas):\n",
    "        self.color = color\n",
    "        self.ruedas = ruedas\n",
    "        \n",
    "    def __str__(self):\n",
    "        return \"Color {}, {} ruedas\".format(self.color, self.ruedas)\n",
    "\n",
    "class Coche(Vehiculo):\n",
    "    def __init__(self, color, ruedas, velocidad, cilindrada):\n",
    "        Vehiculo.__init__(self, color, ruedas)\n",
    "        self.velocidad = velocidad\n",
    "        self.cilindrada = cilindrada\n",
    "        \n",
    "    def __str__(self):\n",
    "        return Vehiculo.__str__(self) +  \", {} km/h, {} cc\".format(  self.velocidad, self.cilindrada )\n",
    "\n",
    "Versa = Coche(\"Azul\",4,150,1200)\n",
    "print(Versa)"
   ]
  },
  {
   "cell_type": "markdown",
   "metadata": {},
   "source": [
    "Como tener que determinar constantemente la superclase puede ser fastidioso, Python nos permite utilizar un acceso directo mucho más cómodo llamado super().\n",
    "\n",
    "Hacerlo de esta forma además nos permite llamar cómodamente los métodos o atributos de la superclase sin necesidad de especificar el self, pero ojo, sólo se aconseja utilizarlo cuando tenemos una única superclase:"
   ]
  },
  {
   "cell_type": "code",
   "execution_count": 19,
   "metadata": {
    "ExecuteTime": {
     "end_time": "2020-01-06T06:39:48.190065Z",
     "start_time": "2020-01-06T06:39:48.171329Z"
    }
   },
   "outputs": [],
   "source": [
    "class Vehiculo:\n",
    "    def __init__(self, color, ruedas):\n",
    "        self.color = color\n",
    "        self.ruedas = ruedas\n",
    "\n",
    "    def __str__(self):\n",
    "        return \"Color {}, {} ruedas\".format(self.color, self.ruedas)\n",
    "        \n",
    "class Coche(Vehiculo):\n",
    "    def __init__(self, color, ruedas, velocidad, cilindrada):\n",
    "        super().__init__(color, ruedas)\n",
    "        self.velocidad = velocidad\n",
    "        self.cilindrada = cilindrada\n",
    "    \n",
    "    def __str__(self):\n",
    "        return super().__str__() + \", {} km/h, {} cc\".format(self.velocidad, self.cilindrada)\n",
    "    \n",
    "class Camioneta(Coche):\n",
    "    def __init__(self, color, ruedas, velocidad, cilindrada, carga):\n",
    "        super().__init__(color, ruedas, velocidad, cilindrada)\n",
    "        self.carga = carga\n",
    "    \n",
    "    def __str__(self):\n",
    "        return super().__str__() + \", carga de {} kilogramos\".format(self.carga)\n",
    "        \n",
    "class Bicicleta(Vehiculo):\n",
    "    def __init__(self, color, ruedas, tipo):\n",
    "        super().__init__(color, ruedas)\n",
    "        self.tipo = tipo\n",
    "\n",
    "    def __str__(self):\n",
    "        return super().__str__() + \", tipo {}\".format(self.tipo)\n",
    "\n",
    "class Motocicleta(Bicicleta):\n",
    "    def __init__(self, color, ruedas, tipo, velocidad, cilindrada):\n",
    "        super().__init__(color, ruedas, tipo)\n",
    "        self.velocidad = velocidad\n",
    "        self.cilindrada = cilindrada\n",
    "\n",
    "    def __str__(self):\n",
    "        return super().__str__() + \", {} km/h, {} cc\".format(self.velocidad, self.cilindrada)\n",
    "\n",
    "\n",
    "def catalogar(lista, ruedas=None):\n",
    "    # Mostrar recuento de vehiculos con ruedas = parametro\n",
    "    if ruedas != None:\n",
    "        contador = 0\n",
    "        for v in lista:\n",
    "            if v.ruedas == ruedas:\n",
    "                contador+=1\n",
    "        print(\"\\nSe han encontrado {} vehículos con {} ruedas:\".format(contador, ruedas))\n",
    "    \n",
    "    # Mostrar los vehículos\n",
    "    for v in lista:\n",
    "        print(type(v).__name__, v)\n",
    "#        if ruedas == None:\n",
    "#            print(type(v).__name__, v)\n",
    "#        else:\n",
    "#            if v.ruedas == ruedas:\n",
    "#                print(type(v).__name__, v)\n",
    "    \n",
    "    #for v in lista:\n",
    "     #   if isinstance(v,Coche):\n",
    "      #      print(v.velocidad, v.cilindrada)\n",
    "       # elif isinstance(v, Camioneta):\n",
    "        #    print(v.carga)\n",
    "        #elif isinstance(v, Bicicleta):\n",
    "        #     print(v.tipo)\n",
    "        #elif isinstance(v, Motocicleta):\n",
    "         #   print(v.velocidad, v.cilindrada)\n",
    "        \n",
    "        \n",
    "    "
   ]
  },
  {
   "cell_type": "code",
   "execution_count": 16,
   "metadata": {
    "ExecuteTime": {
     "end_time": "2020-01-06T06:39:22.765962Z",
     "start_time": "2020-01-06T06:39:22.761783Z"
    }
   },
   "outputs": [],
   "source": [
    "lista = [\n",
    "    Coche(\"azul\", 4, 150, 1200),\n",
    "    Camioneta(\"blanco\", 4, 100, 1300, 1500),\n",
    "    Bicicleta(\"verde\", 2, \"urbana\"),\n",
    "    Motocicleta(\"negro\", 2, \"deportiva\", 180, 900)\n",
    "]"
   ]
  },
  {
   "cell_type": "code",
   "execution_count": 17,
   "metadata": {
    "ExecuteTime": {
     "end_time": "2020-01-06T06:39:24.660315Z",
     "start_time": "2020-01-06T06:39:24.656960Z"
    }
   },
   "outputs": [
    {
     "name": "stdout",
     "output_type": "stream",
     "text": [
      "Coche Color azul, 4 ruedas, 150 km/h, 1200 cc\n",
      "Camioneta Color blanco, 4 ruedas, 100 km/h, 1300 cc, carga de 1500 kilogramos\n",
      "Bicicleta Color verde, 2 ruedas, tipo urbana\n",
      "Motocicleta Color negro, 2 ruedas, tipo deportiva, 180 km/h, 900 cc\n"
     ]
    }
   ],
   "source": [
    "catalogar(lista)"
   ]
  },
  {
   "cell_type": "code",
   "execution_count": 20,
   "metadata": {
    "ExecuteTime": {
     "end_time": "2020-01-06T06:39:50.342612Z",
     "start_time": "2020-01-06T06:39:50.338655Z"
    }
   },
   "outputs": [
    {
     "name": "stdout",
     "output_type": "stream",
     "text": [
      "\n",
      "Se han encontrado 0 vehículos con 0 ruedas:\n",
      "Coche Color azul, 4 ruedas, 150 km/h, 1200 cc\n",
      "Camioneta Color blanco, 4 ruedas, 100 km/h, 1300 cc, carga de 1500 kilogramos\n",
      "Bicicleta Color verde, 2 ruedas, tipo urbana\n",
      "Motocicleta Color negro, 2 ruedas, tipo deportiva, 180 km/h, 900 cc\n"
     ]
    }
   ],
   "source": [
    "catalogar(lista, 0)"
   ]
  },
  {
   "cell_type": "code",
   "execution_count": 21,
   "metadata": {
    "ExecuteTime": {
     "end_time": "2020-01-06T06:40:15.344171Z",
     "start_time": "2020-01-06T06:40:15.339323Z"
    }
   },
   "outputs": [
    {
     "name": "stdout",
     "output_type": "stream",
     "text": [
      "\n",
      "Se han encontrado 2 vehículos con 2 ruedas:\n",
      "Coche Color azul, 4 ruedas, 150 km/h, 1200 cc\n",
      "Camioneta Color blanco, 4 ruedas, 100 km/h, 1300 cc, carga de 1500 kilogramos\n",
      "Bicicleta Color verde, 2 ruedas, tipo urbana\n",
      "Motocicleta Color negro, 2 ruedas, tipo deportiva, 180 km/h, 900 cc\n"
     ]
    }
   ],
   "source": [
    "catalogar(lista, 2)"
   ]
  },
  {
   "cell_type": "code",
   "execution_count": 22,
   "metadata": {
    "ExecuteTime": {
     "end_time": "2020-01-06T06:40:24.242722Z",
     "start_time": "2020-01-06T06:40:24.238738Z"
    }
   },
   "outputs": [
    {
     "name": "stdout",
     "output_type": "stream",
     "text": [
      "\n",
      "Se han encontrado 2 vehículos con 4 ruedas:\n",
      "Coche Color azul, 4 ruedas, 150 km/h, 1200 cc\n",
      "Camioneta Color blanco, 4 ruedas, 100 km/h, 1300 cc, carga de 1500 kilogramos\n",
      "Bicicleta Color verde, 2 ruedas, tipo urbana\n",
      "Motocicleta Color negro, 2 ruedas, tipo deportiva, 180 km/h, 900 cc\n"
     ]
    }
   ],
   "source": [
    "catalogar(lista, 4)"
   ]
  },
  {
   "cell_type": "code",
   "execution_count": 23,
   "metadata": {
    "ExecuteTime": {
     "end_time": "2020-01-06T06:40:28.557852Z",
     "start_time": "2020-01-06T06:40:28.554583Z"
    }
   },
   "outputs": [
    {
     "name": "stdout",
     "output_type": "stream",
     "text": [
      "\n",
      "Se han encontrado 0 vehículos con 6 ruedas:\n",
      "Coche Color azul, 4 ruedas, 150 km/h, 1200 cc\n",
      "Camioneta Color blanco, 4 ruedas, 100 km/h, 1300 cc, carga de 1500 kilogramos\n",
      "Bicicleta Color verde, 2 ruedas, tipo urbana\n",
      "Motocicleta Color negro, 2 ruedas, tipo deportiva, 180 km/h, 900 cc\n"
     ]
    }
   ],
   "source": [
    "catalogar(lista, 6)"
   ]
  },
  {
   "cell_type": "code",
   "execution_count": null,
   "metadata": {},
   "outputs": [],
   "source": []
  }
 ],
 "metadata": {
  "kernelspec": {
   "display_name": "Python 3",
   "language": "python",
   "name": "python3"
  },
  "language_info": {
   "codemirror_mode": {
    "name": "ipython",
    "version": 3
   },
   "file_extension": ".py",
   "mimetype": "text/x-python",
   "name": "python",
   "nbconvert_exporter": "python",
   "pygments_lexer": "ipython3",
   "version": "3.7.4"
  },
  "toc": {
   "base_numbering": 1,
   "nav_menu": {},
   "number_sections": true,
   "sideBar": true,
   "skip_h1_title": false,
   "title_cell": "Table of Contents",
   "title_sidebar": "Contents",
   "toc_cell": false,
   "toc_position": {},
   "toc_section_display": true,
   "toc_window_display": false
  },
  "varInspector": {
   "cols": {
    "lenName": 16,
    "lenType": 16,
    "lenVar": 40
   },
   "kernels_config": {
    "python": {
     "delete_cmd_postfix": "",
     "delete_cmd_prefix": "del ",
     "library": "var_list.py",
     "varRefreshCmd": "print(var_dic_list())"
    },
    "r": {
     "delete_cmd_postfix": ") ",
     "delete_cmd_prefix": "rm(",
     "library": "var_list.r",
     "varRefreshCmd": "cat(var_dic_list()) "
    }
   },
   "types_to_exclude": [
    "module",
    "function",
    "builtin_function_or_method",
    "instance",
    "_Feature"
   ],
   "window_display": true
  }
 },
 "nbformat": 4,
 "nbformat_minor": 2
}
