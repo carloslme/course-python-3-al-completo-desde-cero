{
 "cells": [
  {
   "cell_type": "markdown",
   "metadata": {
    "ExecuteTime": {
     "end_time": "2020-01-06T04:33:55.004958Z",
     "start_time": "2020-01-06T04:33:55.001784Z"
    }
   },
   "source": [
    "Es la capacidad de una subclase de heredar de múltiples superclases.\n",
    "\n",
    "Esto conlleva un problema, y es que si varias superclases tienen los mismos atributos o métodos, la subclase sólo podrá heredar de una de ellas.\n",
    "\n",
    "En estos casos Python dará prioridad a las clases más a la izquierda en el momento de la declaración de la subclase:"
   ]
  },
  {
   "cell_type": "code",
   "execution_count": 10,
   "metadata": {
    "ExecuteTime": {
     "end_time": "2020-01-06T04:50:59.087744Z",
     "start_time": "2020-01-06T04:50:59.082561Z"
    }
   },
   "outputs": [],
   "source": [
    "class A:\n",
    "    def __init__(self):\n",
    "        print(\"Soy de la clase A\")\n",
    "    def a(self):\n",
    "        print(\"Este método lo heredeo de A\")\n",
    "\n",
    "class B:\n",
    "    def __init__(self):\n",
    "        print(\"Soy la clase B\")\n",
    "    def b(self):\n",
    "        print(\"Este método lo heredeo de B\")\n",
    "        \n",
    "class C(A, B): # La prioridad se toma con base en la primera clase que se haya escrito\n",
    "    def c(self):\n",
    "        print(\"Este método es de C\")\n"
   ]
  },
  {
   "cell_type": "code",
   "execution_count": 11,
   "metadata": {
    "ExecuteTime": {
     "end_time": "2020-01-06T04:51:00.667483Z",
     "start_time": "2020-01-06T04:51:00.663245Z"
    }
   },
   "outputs": [
    {
     "name": "stdout",
     "output_type": "stream",
     "text": [
      "Soy de la clase A\n",
      "Este método lo heredeo de A\n",
      "Este método lo heredeo de B\n",
      "Este método es de C\n"
     ]
    }
   ],
   "source": [
    "c = C()\n",
    "c.a()\n",
    "c.b()\n",
    "c.c()"
   ]
  },
  {
   "cell_type": "code",
   "execution_count": null,
   "metadata": {},
   "outputs": [],
   "source": []
  }
 ],
 "metadata": {
  "kernelspec": {
   "display_name": "Python 3",
   "language": "python",
   "name": "python3"
  },
  "language_info": {
   "codemirror_mode": {
    "name": "ipython",
    "version": 3
   },
   "file_extension": ".py",
   "mimetype": "text/x-python",
   "name": "python",
   "nbconvert_exporter": "python",
   "pygments_lexer": "ipython3",
   "version": "3.7.4"
  },
  "toc": {
   "base_numbering": 1,
   "nav_menu": {},
   "number_sections": true,
   "sideBar": true,
   "skip_h1_title": false,
   "title_cell": "Table of Contents",
   "title_sidebar": "Contents",
   "toc_cell": false,
   "toc_position": {},
   "toc_section_display": true,
   "toc_window_display": false
  },
  "varInspector": {
   "cols": {
    "lenName": 16,
    "lenType": 16,
    "lenVar": 40
   },
   "kernels_config": {
    "python": {
     "delete_cmd_postfix": "",
     "delete_cmd_prefix": "del ",
     "library": "var_list.py",
     "varRefreshCmd": "print(var_dic_list())"
    },
    "r": {
     "delete_cmd_postfix": ") ",
     "delete_cmd_prefix": "rm(",
     "library": "var_list.r",
     "varRefreshCmd": "cat(var_dic_list()) "
    }
   },
   "types_to_exclude": [
    "module",
    "function",
    "builtin_function_or_method",
    "instance",
    "_Feature"
   ],
   "window_display": false
  }
 },
 "nbformat": 4,
 "nbformat_minor": 2
}
