{
 "cells": [
  {
   "cell_type": "markdown",
   "metadata": {},
   "source": [
    "### Polimorfismo\n",
    "El polimorfismo es una propiedad de la herencia por la que objetos de distintas subclases pueden responder a una misma acción.\n",
    "\n",
    "La polimorfia es implícita en Python, ya que todas las clases son subclases de una superclase común llamada Object."
   ]
  },
  {
   "cell_type": "code",
   "execution_count": 1,
   "metadata": {
    "ExecuteTime": {
     "end_time": "2020-01-05T04:31:28.192960Z",
     "start_time": "2020-01-05T04:31:28.184981Z"
    }
   },
   "outputs": [],
   "source": [
    "class Producto:\n",
    "    def __init__(self, referencia, nombre, pvp, descripcion):\n",
    "        self.referencia = referencia\n",
    "        self.nombre = nombre\n",
    "        self.pvp = pvp\n",
    "        self.descripcion = descripcion\n",
    "    def __str__(self):\n",
    "        return f\"REFERENCIA\\t {self.referencia}\\n\" \\\n",
    "               f\"NOMBRE\\t\\t {self.nombre}\\n\" \\\n",
    "               f\"PVP\\t\\t {self.pvp}\\n\" \\\n",
    "               f\"DESCRIPCIÓN\\t {self.descripcion}\\n\"\n",
    "class Adorno(Producto):\n",
    "    pass\n",
    "\n",
    "class Alimento(Producto):\n",
    "    productor = \"\"\n",
    "    distribuidor = \"\"\n",
    "    \n",
    "    def __str__(self):\n",
    "        return f\"REFERENCIA\\t {self.referencia}\\n\" \\\n",
    "               f\"NOMBRE\\t\\t {self.nombre}\\n\" \\\n",
    "               f\"PVP\\t\\t {self.pvp}\\n\" \\\n",
    "               f\"DESCRIPCIÓN\\t {self.descripcion}\\n\" \\\n",
    "               f\"PRODUCTOR\\t {self.productor}\\n\" \\\n",
    "               f\"DISTRIBUIDOR\\t {self.distribuidor}\\n\"\n",
    "\n",
    "class Libro(Producto):\n",
    "    isbn = \"\"\n",
    "    autor = \"\"\n",
    "    \n",
    "    def __str__(self):\n",
    "        return f\"REFERENCIA\\t {self.referencia}\\n\" \\\n",
    "               f\"NOMBRE\\t\\t {self.nombre}\\n\" \\\n",
    "               f\"PVP\\t\\t {self.pvp}\\n\" \\\n",
    "               f\"DESCRIPCIÓN\\t {self.descripcion}\\n\" \\\n",
    "               f\"ISBN\\t\\t {self.isbn}\\n\" \\\n",
    "               f\"AUTOR\\t\\t {self.autor}\\n\""
   ]
  },
  {
   "cell_type": "code",
   "execution_count": 3,
   "metadata": {
    "ExecuteTime": {
     "end_time": "2020-01-05T04:32:31.793400Z",
     "start_time": "2020-01-05T04:32:31.788447Z"
    }
   },
   "outputs": [],
   "source": [
    "adorno =  Adorno(2034, \"Vaso adornado\", 15, \"Vaso de porcelana\")\n",
    "\n",
    "alimento = Alimento(2035, \"Botella de Aceite de Oliva\", 5, \"250 ML\")\n",
    "alimento.productor = \"La Aceitera\"\n",
    "alimento.distribuidor = \"Distribuciones SA\"\n",
    "\n",
    "libro = Libro(2036, \"Cocina Mediterránea\",9, \"Recetas sanas y buenas\")\n",
    "libro.isbn = \"0-123456-78-9\"\n",
    "libro.autor = \"Doña Juana\"\n",
    "\n",
    "productos = [adorno, alimento]\n",
    "productos.append(libro)"
   ]
  },
  {
   "cell_type": "markdown",
   "metadata": {},
   "source": [
    "Gracias al polimorfismo no tenemos que comprobar si un objeto tiene o no el atributo pvp, simplemente intentamos acceder y si existe premio:"
   ]
  },
  {
   "cell_type": "code",
   "execution_count": 5,
   "metadata": {
    "ExecuteTime": {
     "end_time": "2020-01-05T04:37:07.017614Z",
     "start_time": "2020-01-05T04:37:07.012595Z"
    }
   },
   "outputs": [
    {
     "name": "stdout",
     "output_type": "stream",
     "text": [
      "REFERENCIA\t 2035\n",
      "NOMBRE\t\t Botella de Aceite de Oliva\n",
      "PVP\t\t 5\n",
      "DESCRIPCIÓN\t 250 ML\n",
      "PRODUCTOR\t La Aceitera\n",
      "DISTRIBUIDOR\t Distribuciones SA\n",
      " \n",
      "\n",
      "REFERENCIA\t 2035\n",
      "NOMBRE\t\t Botella de Aceite de Oliva\n",
      "PVP\t\t 4.5\n",
      "DESCRIPCIÓN\t 250 ML\n",
      "PRODUCTOR\t La Aceitera\n",
      "DISTRIBUIDOR\t Distribuciones SA\n",
      "\n"
     ]
    }
   ],
   "source": [
    "def rebajar_producto(producto, rebaja):\n",
    "    producto.pvp = producto.pvp - (producto.pvp/100 * rebaja)\n",
    "\n",
    "print(alimento, \"\\n\")\n",
    "rebajar_producto(alimento, 10)\n",
    "print(alimento)"
   ]
  },
  {
   "cell_type": "markdown",
   "metadata": {},
   "source": [
    "NOTAS: \n",
    "- Para copiar un arreglo se usa [:]\n",
    "- Para copiar un objeto se usa el método copy() de import copy, sirve para todo tipo de elementos"
   ]
  },
  {
   "cell_type": "code",
   "execution_count": 6,
   "metadata": {
    "ExecuteTime": {
     "end_time": "2020-01-05T04:48:02.746480Z",
     "start_time": "2020-01-05T04:48:02.740496Z"
    }
   },
   "outputs": [
    {
     "name": "stdout",
     "output_type": "stream",
     "text": [
      "[1, 2, 3]\n",
      "[1, 2, 3, 4]\n"
     ]
    }
   ],
   "source": [
    "l1 = [1,2,3]\n",
    "l2 = l1[:]\n",
    "l2.append(4)\n",
    "print(l1)\n",
    "print(l2)"
   ]
  },
  {
   "cell_type": "code",
   "execution_count": 8,
   "metadata": {
    "ExecuteTime": {
     "end_time": "2020-01-05T04:49:09.368395Z",
     "start_time": "2020-01-05T04:49:09.364406Z"
    }
   },
   "outputs": [],
   "source": [
    "import copy\n",
    "copia_alimento = copy.copy(alimento)"
   ]
  },
  {
   "cell_type": "code",
   "execution_count": 9,
   "metadata": {
    "ExecuteTime": {
     "end_time": "2020-01-05T04:49:24.352520Z",
     "start_time": "2020-01-05T04:49:24.348532Z"
    }
   },
   "outputs": [],
   "source": [
    "copia_alimento.descripcion = \"PRUEBA\""
   ]
  },
  {
   "cell_type": "code",
   "execution_count": 10,
   "metadata": {
    "ExecuteTime": {
     "end_time": "2020-01-05T04:49:38.589985Z",
     "start_time": "2020-01-05T04:49:38.585997Z"
    }
   },
   "outputs": [
    {
     "name": "stdout",
     "output_type": "stream",
     "text": [
      "REFERENCIA\t 2035\n",
      "NOMBRE\t\t Botella de Aceite de Oliva\n",
      "PVP\t\t 4.5\n",
      "DESCRIPCIÓN\t 250 ML\n",
      "PRODUCTOR\t La Aceitera\n",
      "DISTRIBUIDOR\t Distribuciones SA\n",
      "\n",
      "REFERENCIA\t 2035\n",
      "NOMBRE\t\t Botella de Aceite de Oliva\n",
      "PVP\t\t 4.5\n",
      "DESCRIPCIÓN\t PRUEBA\n",
      "PRODUCTOR\t La Aceitera\n",
      "DISTRIBUIDOR\t Distribuciones SA\n",
      "\n"
     ]
    }
   ],
   "source": [
    "print(alimento)\n",
    "print(copia_alimento)"
   ]
  },
  {
   "cell_type": "markdown",
   "metadata": {},
   "source": [
    "TODAS LAS CLASES EN PYTHON SON POLIMORFICAS YA QUE DERIVAN DE UNA CLASE LLAMADA OBJECT"
   ]
  },
  {
   "cell_type": "code",
   "execution_count": null,
   "metadata": {},
   "outputs": [],
   "source": []
  }
 ],
 "metadata": {
  "kernelspec": {
   "display_name": "Python 3",
   "language": "python",
   "name": "python3"
  },
  "language_info": {
   "codemirror_mode": {
    "name": "ipython",
    "version": 3
   },
   "file_extension": ".py",
   "mimetype": "text/x-python",
   "name": "python",
   "nbconvert_exporter": "python",
   "pygments_lexer": "ipython3",
   "version": "3.7.3"
  },
  "toc": {
   "base_numbering": 1,
   "nav_menu": {},
   "number_sections": true,
   "sideBar": true,
   "skip_h1_title": false,
   "title_cell": "Table of Contents",
   "title_sidebar": "Contents",
   "toc_cell": false,
   "toc_position": {},
   "toc_section_display": true,
   "toc_window_display": false
  },
  "varInspector": {
   "cols": {
    "lenName": 16,
    "lenType": 16,
    "lenVar": 40
   },
   "kernels_config": {
    "python": {
     "delete_cmd_postfix": "",
     "delete_cmd_prefix": "del ",
     "library": "var_list.py",
     "varRefreshCmd": "print(var_dic_list())"
    },
    "r": {
     "delete_cmd_postfix": ") ",
     "delete_cmd_prefix": "rm(",
     "library": "var_list.r",
     "varRefreshCmd": "cat(var_dic_list()) "
    }
   },
   "position": {
    "height": "200px",
    "left": "1070px",
    "right": "20px",
    "top": "120px",
    "width": "350px"
   },
   "types_to_exclude": [
    "module",
    "function",
    "builtin_function_or_method",
    "instance",
    "_Feature"
   ],
   "window_display": true
  }
 },
 "nbformat": 4,
 "nbformat_minor": 2
}
