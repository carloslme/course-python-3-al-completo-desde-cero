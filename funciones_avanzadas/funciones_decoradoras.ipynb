{
  "nbformat": 4,
  "nbformat_minor": 0,
  "metadata": {
    "colab": {
      "provenance": [],
      "authorship_tag": "ABX9TyNyG7pCjHu0TOrnps6pF2o6",
      "include_colab_link": true
    },
    "kernelspec": {
      "name": "python3",
      "display_name": "Python 3"
    },
    "language_info": {
      "name": "python"
    }
  },
  "cells": [
    {
      "cell_type": "markdown",
      "metadata": {
        "id": "view-in-github",
        "colab_type": "text"
      },
      "source": [
        "<a href=\"https://colab.research.google.com/github/carloslme/course-python-3-al-completo-desde-cero/blob/master/funciones_avanzadas/funciones_decoradoras.ipynb\" target=\"_parent\"><img src=\"https://colab.research.google.com/assets/colab-badge.svg\" alt=\"Open In Colab\"/></a>"
      ]
    },
    {
      "cell_type": "markdown",
      "source": [
        "### Ejemplo de función dentro de otra función"
      ],
      "metadata": {
        "id": "iOOPtAVNVsi0"
      }
    },
    {
      "cell_type": "code",
      "execution_count": 1,
      "metadata": {
        "colab": {
          "base_uri": "https://localhost:8080/"
        },
        "id": "Gu-6kedTVGfi",
        "outputId": "6c6367b2-2c55-4192-910a-1f215e229832"
      },
      "outputs": [
        {
          "output_type": "execute_result",
          "data": {
            "text/plain": [
              "<function __main__.hola.<locals>.bienvenido()>"
            ]
          },
          "metadata": {},
          "execution_count": 1
        }
      ],
      "source": [
        "def hola():\n",
        "  def bienvenido():\n",
        "    return \"Hola\"\n",
        "\n",
        "  return bienvenido\n",
        "\n",
        "hola()"
      ]
    },
    {
      "cell_type": "code",
      "source": [
        "hola()()"
      ],
      "metadata": {
        "colab": {
          "base_uri": "https://localhost:8080/",
          "height": 35
        },
        "id": "x9syaA7vVVLD",
        "outputId": "630972b9-2725-4779-b846-d531137a05f9"
      },
      "execution_count": 2,
      "outputs": [
        {
          "output_type": "execute_result",
          "data": {
            "text/plain": [
              "'Hola'"
            ],
            "application/vnd.google.colaboratory.intrinsic+json": {
              "type": "string"
            }
          },
          "metadata": {},
          "execution_count": 2
        }
      ]
    },
    {
      "cell_type": "markdown",
      "source": [
        "### Funciones como variables"
      ],
      "metadata": {
        "id": "v-6Phde2Vo6H"
      }
    },
    {
      "cell_type": "code",
      "source": [
        "bienvenido = hola()"
      ],
      "metadata": {
        "id": "s14-Qn7UVi97"
      },
      "execution_count": 3,
      "outputs": []
    },
    {
      "cell_type": "code",
      "source": [
        "bienvenido()"
      ],
      "metadata": {
        "colab": {
          "base_uri": "https://localhost:8080/",
          "height": 35
        },
        "id": "B09225nkV3B1",
        "outputId": "6bdc440e-c79a-4160-89f2-36b4a5e595dd"
      },
      "execution_count": 4,
      "outputs": [
        {
          "output_type": "execute_result",
          "data": {
            "text/plain": [
              "'Hola'"
            ],
            "application/vnd.google.colaboratory.intrinsic+json": {
              "type": "string"
            }
          },
          "metadata": {},
          "execution_count": 4
        }
      ]
    },
    {
      "cell_type": "code",
      "source": [],
      "metadata": {
        "id": "lFmWz-0CV4z9"
      },
      "execution_count": null,
      "outputs": []
    },
    {
      "cell_type": "markdown",
      "source": [
        "### Funciones como argumentos"
      ],
      "metadata": {
        "id": "Ni7Su_PqV6uy"
      }
    },
    {
      "cell_type": "code",
      "source": [
        "def hola():\n",
        "  return \"Hola\"\n",
        "\n",
        "def test(funcion):\n",
        "  print(funcion())\n",
        "\n",
        "test(hola)"
      ],
      "metadata": {
        "colab": {
          "base_uri": "https://localhost:8080/"
        },
        "id": "1jCptz8HV9NO",
        "outputId": "b1557d2b-2d22-4e58-9e20-ddf3f4db1f10"
      },
      "execution_count": 8,
      "outputs": [
        {
          "output_type": "stream",
          "name": "stdout",
          "text": [
            "Hola\n"
          ]
        }
      ]
    },
    {
      "cell_type": "markdown",
      "source": [
        "### Funciones decoradoras\n"
      ],
      "metadata": {
        "id": "2xdAYbnfWVsf"
      }
    },
    {
      "cell_type": "code",
      "source": [
        "def monitorizar_args(funcion):\n",
        "  \n",
        "  def wrapper(*args, **kwargs):\n",
        "    print(\"\\t Se va a ejecutar la funcion: \", funcion.__name__)\n",
        "    funcion(*args, **kwargs)\n",
        "    print(\"\\t Se va ha ejecutado la funcion: \", funcion.__name__)\n",
        "  \n",
        "  return wrapper\n"
      ],
      "metadata": {
        "id": "wkBES_48WfaD"
      },
      "execution_count": 18,
      "outputs": []
    },
    {
      "cell_type": "code",
      "source": [
        "@monitorizar_args\n",
        "def hola(nombre):\n",
        "  print(f\"Hola {nombre}\")\n",
        "\n",
        "@monitorizar_args\n",
        "def adios(nombre):\n",
        "  print(f\"Adios {nombre}\")"
      ],
      "metadata": {
        "id": "1mdPT0zhWJAZ"
      },
      "execution_count": 21,
      "outputs": []
    },
    {
      "cell_type": "code",
      "source": [
        "monitorizar_args(hola(\"Carlos\"))"
      ],
      "metadata": {
        "colab": {
          "base_uri": "https://localhost:8080/"
        },
        "id": "5ZRnCsyDXBHc",
        "outputId": "e75a92d3-75d4-40d1-854f-0aaea1a09940"
      },
      "execution_count": 22,
      "outputs": [
        {
          "output_type": "stream",
          "name": "stdout",
          "text": [
            "\t Se va a ejecutar la funcion:  hola\n",
            "Hola Carlos\n",
            "\t Se va ha ejecutado la funcion:  hola\n"
          ]
        },
        {
          "output_type": "execute_result",
          "data": {
            "text/plain": [
              "<function __main__.monitorizar_args.<locals>.wrapper(*args, **kwargs)>"
            ]
          },
          "metadata": {},
          "execution_count": 22
        }
      ]
    },
    {
      "cell_type": "code",
      "source": [
        "hola(\"Carlos\")"
      ],
      "metadata": {
        "colab": {
          "base_uri": "https://localhost:8080/"
        },
        "id": "bFGpyQt_XC-C",
        "outputId": "865cec7c-f8ad-47e5-b524-6f6f5b264ac2"
      },
      "execution_count": 23,
      "outputs": [
        {
          "output_type": "stream",
          "name": "stdout",
          "text": [
            "\t Se va a ejecutar la funcion:  hola\n",
            "Hola Carlos\n",
            "\t Se va ha ejecutado la funcion:  hola\n"
          ]
        }
      ]
    },
    {
      "cell_type": "code",
      "source": [
        "adios(\"Carlos\")"
      ],
      "metadata": {
        "colab": {
          "base_uri": "https://localhost:8080/"
        },
        "id": "6_wlUPy0Xxiu",
        "outputId": "3c975423-3568-458c-a81a-a3ab32334782"
      },
      "execution_count": 24,
      "outputs": [
        {
          "output_type": "stream",
          "name": "stdout",
          "text": [
            "\t Se va a ejecutar la funcion:  adios\n",
            "Adios Carlos\n",
            "\t Se va ha ejecutado la funcion:  adios\n"
          ]
        }
      ]
    },
    {
      "cell_type": "code",
      "source": [],
      "metadata": {
        "id": "XU6zyGUdX3jJ"
      },
      "execution_count": null,
      "outputs": []
    }
  ]
}