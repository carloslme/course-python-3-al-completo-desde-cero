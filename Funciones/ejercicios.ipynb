{
 "nbformat": 4,
 "nbformat_minor": 2,
 "metadata": {
  "language_info": {
   "name": "python",
   "codemirror_mode": {
    "name": "ipython",
    "version": 3
   },
   "version": "3.7.3"
  },
  "orig_nbformat": 2,
  "file_extension": ".py",
  "mimetype": "text/x-python",
  "name": "python",
  "npconvert_exporter": "python",
  "pygments_lexer": "ipython3",
  "version": 3
 },
 "cells": [
  {
   "cell_type": "markdown",
   "execution_count": null,
   "metadata": {},
   "outputs": [],
   "source": [
    "### Ejercicio 1\n"
   ]
  },
  {
   "cell_type": "code",
   "execution_count": 1,
   "metadata": {},
   "outputs": [
    {
     "name": "stdout",
     "output_type": "stream",
     "text": "150\n"
    }
   ],
   "source": [
    "# Realiza una función llamada area_rectangulo(base, altura) que devuelva el área del rectangulo a partir de una base y una altura. Calcula el área de un rectángulo de 15 de base y 10 de altura:\n",
    "def area_rectangulo(base, altura):\n",
    "    return base*altura\n",
    "\n",
    "print( area_rectangulo(15,10) )"
   ]
  },
  {
   "cell_type": "markdown",
   "execution_count": null,
   "metadata": {},
   "outputs": [],
   "source": [
    "### Ejercicio 2"
   ]
  },
  {
   "cell_type": "code",
   "execution_count": 2,
   "metadata": {},
   "outputs": [
    {
     "name": "stdout",
     "output_type": "stream",
     "text": "78.53981633974483\n"
    }
   ],
   "source": [
    "#Realiza una función llamada area_circulo(radio) que devuelva el área de un círculo a partir de un radio. Calcula el área de un círculo de 5 de radio:\n",
    "import math\n",
    "def area_circulo(radio):\n",
    "    return radio**2 * math.pi\n",
    "print(area_circulo(5))"
   ]
  },
  {
   "cell_type": "markdown",
   "execution_count": null,
   "metadata": {},
   "outputs": [],
   "source": [
    "### Ejercicio 3"
   ]
  },
  {
   "cell_type": "code",
   "execution_count": 4,
   "metadata": {},
   "outputs": [
    {
     "name": "stdout",
     "output_type": "stream",
     "text": "-1\n1\n0\n"
    }
   ],
   "source": [
    "\"\"\"\n",
    "Realiza una función llamada relacion(a, b) que a partir de dos números cumpla lo siguiente:\n",
    "\n",
    "Si el primer número es mayor que el segundo, debe devolver 1.\n",
    "Si el primer número es menor que el segundo, debe devolver -1.\n",
    "Si ambos números son iguales, debe devolver un 0.\n",
    "Comprueba la relación entre los números: '5 y 10', '10 y 5' y '5 y 5'. \"\"\"\n",
    "def relacion(a, b):\n",
    "    if a > b:\n",
    "        return 1\n",
    "    elif b > a:\n",
    "        return -1\n",
    "    else:\n",
    "        return 0\n",
    "print(relacion(5,10))\n",
    "print(relacion(10,5))\n",
    "print(relacion(5,5))"
   ]
  },
  {
   "cell_type": "markdown",
   "execution_count": null,
   "metadata": {},
   "outputs": [],
   "source": [
    "### Ejercicio 4"
   ]
  },
  {
   "cell_type": "code",
   "execution_count": 5,
   "metadata": {},
   "outputs": [
    {
     "name": "stdout",
     "output_type": "stream",
     "text": "6.0\n"
    }
   ],
   "source": [
    "# Realiza una función llamada intermedio(a, b) que a partir de dos números, devuelva su punto intermedio. Cuando lo tengas comprueba el punto intermedio entre -12 y 24:\n",
    "def intermedio(a, b):\n",
    "    return (a+b)/2\n",
    "print(intermedio(-12,24))"
   ]
  },
  {
   "cell_type": "markdown",
   "execution_count": null,
   "metadata": {},
   "outputs": [],
   "source": [
    "### Ejercicio 5"
   ]
  },
  {
   "cell_type": "code",
   "execution_count": 7,
   "metadata": {},
   "outputs": [
    {
     "name": "stdout",
     "output_type": "stream",
     "text": "10\n"
    }
   ],
   "source": [
    "\"\"\"\n",
    "Realiza una función llamada recortar(numero, minimo, maximo) que reciba tres parámetros. El primero es el número a recortar, el segundo es el límite inferior y el tercero el límite superior. La función tendrá que cumplir lo siguiente:\n",
    "\n",
    "- Devolver el límite inferior si el número es menor que éste\n",
    "- Devolver el límite superior si el número es mayor que éste.\n",
    "- Devolver el número sin cambios si no se supera ningún límite.\n",
    "- Comprueba el resultado de recortar 15 entre los límites 0 y 10.\n",
    "\"\"\"\n",
    "def recortar(numero, minimo, maximo):\n",
    "    if numero < minimo:\n",
    "        return minimo\n",
    "    elif numero > maximo:\n",
    "        return maximo\n",
    "    else:\n",
    "        return numero\n",
    "print(recortar(15, 0, 10)) "
   ]
  },
  {
   "cell_type": "markdown",
   "execution_count": null,
   "metadata": {},
   "outputs": [],
   "source": [
    "### Ejercicio 6"
   ]
  },
  {
   "cell_type": "code",
   "execution_count": 10,
   "metadata": {},
   "outputs": [
    {
     "name": "stdout",
     "output_type": "stream",
     "text": "[-12, 20, 84]\n[-33, 9, 13, 101]\n"
    }
   ],
   "source": [
    "# Realiza una función separar(lista) que tome una lista de números enteros y devuelva dos listas ordenadas. La primera con los números pares y la segunda con los números impares.\n",
    "def separar(lista):\n",
    "    lista.sort()\n",
    "    pares = []\n",
    "    impares = []\n",
    "    for i in lista:\n",
    "        if i%2 == 0:\n",
    "            pares.append(i)\n",
    "        else: \n",
    "            impares.append(i)\n",
    "    return pares, impares\n",
    "\n",
    "numeros = [-12, 84, 13, 20, -33, 101, 9]\n",
    "pares, impares = separar(numeros)\n",
    "print(pares)\n",
    "print(impares)"
   ]
  },
  {
   "cell_type": "code",
   "execution_count": null,
   "metadata": {},
   "outputs": [],
   "source": []
  }
 ]
}