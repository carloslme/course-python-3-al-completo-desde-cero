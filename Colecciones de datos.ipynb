{
 "cells": [
  {
   "cell_type": "markdown",
   "metadata": {
    "ExecuteTime": {
     "end_time": "2019-12-08T05:30:32.607822Z",
     "start_time": "2019-12-08T05:30:32.603799Z"
    }
   },
   "source": [
    "## Colecciones de datos "
   ]
  },
  {
   "cell_type": "markdown",
   "metadata": {
    "ExecuteTime": {
     "end_time": "2019-12-08T06:10:13.692237Z",
     "start_time": "2019-12-08T06:10:13.687251Z"
    }
   },
   "source": [
    "## Ejercicio 1\n",
    "Realiza un programa que siga las siguientes instrucciones:\n",
    "\n",
    "- Crea un conjunto llamado usuarios con los usuarios Marta, David, Elvira, Juan y Marcos\n",
    "- Crea un conjunto llamado administradores con los administradores Juan y Marta.\n",
    "- Borra al administrador Juan del conjunto de administradores.\n",
    "- Añade a Marcos como un nuevo administrador, pero no lo borres del conjunto de usuarios.\n",
    "- Muestra todos los usuarios por pantalla de forma dinámica, además debes indicar cada usuario es administrador o no."
   ]
  },
  {
   "cell_type": "code",
   "execution_count": 12,
   "metadata": {
    "ExecuteTime": {
     "end_time": "2019-12-10T03:48:09.263431Z",
     "start_time": "2019-12-10T03:48:09.257450Z"
    }
   },
   "outputs": [
    {
     "name": "stdout",
     "output_type": "stream",
     "text": [
      "Marcos es administrador\n",
      "Juan no es administrador\n",
      "Elvira no es administrador\n",
      "David no es administrador\n",
      "Marta es administrador\n"
     ]
    }
   ],
   "source": [
    "usuarios = {'Marta', 'David', 'Elvira', 'Juan', 'Marcos'}\n",
    "administradores = {'Juan', 'Marta'}\n",
    "administradores.discard('Juan')\n",
    "administradores.add('Marcos')\n",
    "for usuario in usuarios:\n",
    "    if usuario in administradores:\n",
    "        print(usuario, 'es administrador')\n",
    "    else:\n",
    "        print(usuario, 'no es administrador')"
   ]
  },
  {
   "cell_type": "markdown",
   "metadata": {},
   "source": [
    "## Ejercicio 2\n",
    "Durante el desarrollo de un pequeño videojuego se te encarga configurar y balancear cada clase de personaje jugable. Partiendo que la estadística base es 2, debes cumplir las siguientes condiciones:\n",
    "\n",
    "- El caballero tiene el doble de vida y defensa que un guerrero.\n",
    "- El guerrero tiene el doble de ataque y alcance que un caballero.\n",
    "- El arquero tiene la misma vida y ataque que un guerrero, pero la mitad de su defensa y el doble de su alcance.\n",
    "- Muestra como quedan las propiedades de los tres personajes."
   ]
  },
  {
   "cell_type": "code",
   "execution_count": 16,
   "metadata": {
    "ExecuteTime": {
     "end_time": "2019-12-10T04:14:25.999785Z",
     "start_time": "2019-12-10T04:14:25.992803Z"
    }
   },
   "outputs": [
    {
     "name": "stdout",
     "output_type": "stream",
     "text": [
      "Caballero:\t {'vida': 4, 'ataque': 2, 'defensa': 4, 'alcance': 2}\n",
      "Guerrero:\t {'vida': 2, 'ataque': 4, 'defensa': 2, 'alcance': 4}\n",
      "Arquero:\t {'vida': 2, 'ataque': 4, 'defensa': 1.0, 'alcance': 8}\n"
     ]
    }
   ],
   "source": [
    "caballero = { 'vida':2, 'ataque':2, 'defensa': 2, 'alcance':2 }\n",
    "guerrero  = { 'vida':2, 'ataque':2, 'defensa': 2, 'alcance':2 }\n",
    "arquero   = { 'vida':2, 'ataque':2, 'defensa': 2, 'alcance':2 }\n",
    "\n",
    "# Completa el ejercicio aquí\n",
    "caballero['vida']    = guerrero['vida'] * 2\n",
    "caballero['defensa'] = guerrero['defensa'] * 2\n",
    "\n",
    "guerrero['ataque']   = caballero['ataque'] * 2\n",
    "guerrero['alcance']  = caballero['alcance'] * 2\n",
    "\n",
    "arquero['vida']     = guerrero['vida']\n",
    "arquero['ataque']   = guerrero['ataque']\n",
    "arquero['defensa']  = guerrero['defensa'] / 2\n",
    "arquero['alcance']  = guerrero['alcance'] * 2\n",
    "\n",
    "print(\"Caballero:\\t\", caballero)\n",
    "print(\"Guerrero:\\t\", guerrero)\n",
    "print(\"Arquero:\\t\", arquero)"
   ]
  },
  {
   "cell_type": "markdown",
   "metadata": {},
   "source": [
    "## Ejercicio 3\n",
    "Durante la planificación de un proyecto se han acordado una lista de tareas. Para cada una de estas tareas se ha asignado un orden de prioridad (cuanto menor es el número de orden, más prioridad).\n",
    "\n",
    "¿Eres capaz de crear una estructura del tipo cola con todas las tareas ordenadas pero sin los números de orden?"
   ]
  },
  {
   "cell_type": "code",
   "execution_count": 5,
   "metadata": {
    "ExecuteTime": {
     "end_time": "2019-12-15T04:09:12.561150Z",
     "start_time": "2019-12-15T04:09:12.552175Z"
    }
   },
   "outputs": [
    {
     "name": "stdout",
     "output_type": "stream",
     "text": [
      "==Tareas desordenadas==\n",
      "6 Distribución\n",
      "2 Diseño\n",
      "1 Concepción\n",
      "7 Mantenimiento\n",
      "4 Producción\n",
      "3 Planificación\n",
      "5 Pruebas\n",
      "\n",
      "==Tareas ordenadas==\n",
      "1 Concepción\n",
      "2 Diseño\n",
      "3 Planificación\n",
      "4 Producción\n",
      "5 Pruebas\n",
      "6 Distribución\n",
      "7 Mantenimiento\n",
      "\n",
      "==Tareas ordenadas (solo nombre)==\n",
      "Concepción\n",
      "Diseño\n",
      "Planificación\n",
      "Producción\n",
      "Pruebas\n",
      "Distribución\n",
      "Mantenimiento\n"
     ]
    }
   ],
   "source": [
    "import collections\n",
    "\n",
    "tareas = [ \n",
    "    [6, 'Distribución'],\n",
    "    [2, 'Diseño'],\n",
    "    [1, 'Concepción'],\n",
    "    [7, 'Mantenimiento'],\n",
    "    [4, 'Producción'],\n",
    "    [3, 'Planificación'],\n",
    "    [5, 'Pruebas']\n",
    "]\n",
    "\n",
    "print(\"==Tareas desordenadas==\")\n",
    "for tarea in tareas:\n",
    "    print(tarea[0], tarea[1])\n",
    "tareas.sort()\n",
    "\n",
    "print(\"\\n==Tareas ordenadas==\")\n",
    "for tarea in tareas:\n",
    "    print(tarea[0], tarea[1])\n",
    "    \n",
    "cola = collections.deque()\n",
    "for tarea in tareas:\n",
    "    cola.append(tarea[1])\n",
    "    \n",
    "print(\"\\n==Tareas ordenadas (solo nombre)==\")\n",
    "for tarea in cola:\n",
    "    print(tarea)"
   ]
  },
  {
   "cell_type": "code",
   "execution_count": null,
   "metadata": {},
   "outputs": [],
   "source": []
  }
 ],
 "metadata": {
  "kernelspec": {
   "display_name": "Python 3",
   "language": "python",
   "name": "python3"
  },
  "language_info": {
   "codemirror_mode": {
    "name": "ipython",
    "version": 3
   },
   "file_extension": ".py",
   "mimetype": "text/x-python",
   "name": "python",
   "nbconvert_exporter": "python",
   "pygments_lexer": "ipython3",
   "version": "3.7.3"
  },
  "toc": {
   "base_numbering": 1,
   "nav_menu": {},
   "number_sections": true,
   "sideBar": true,
   "skip_h1_title": false,
   "title_cell": "Table of Contents",
   "title_sidebar": "Contents",
   "toc_cell": false,
   "toc_position": {},
   "toc_section_display": true,
   "toc_window_display": true
  },
  "varInspector": {
   "cols": {
    "lenName": 16,
    "lenType": 16,
    "lenVar": 40
   },
   "kernels_config": {
    "python": {
     "delete_cmd_postfix": "",
     "delete_cmd_prefix": "del ",
     "library": "var_list.py",
     "varRefreshCmd": "print(var_dic_list())"
    },
    "r": {
     "delete_cmd_postfix": ") ",
     "delete_cmd_prefix": "rm(",
     "library": "var_list.r",
     "varRefreshCmd": "cat(var_dic_list()) "
    }
   },
   "types_to_exclude": [
    "module",
    "function",
    "builtin_function_or_method",
    "instance",
    "_Feature"
   ],
   "window_display": false
  }
 },
 "nbformat": 4,
 "nbformat_minor": 2
}
